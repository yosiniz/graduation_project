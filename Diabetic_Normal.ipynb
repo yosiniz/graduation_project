{
  "nbformat": 4,
  "nbformat_minor": 0,
  "metadata": {
    "colab": {
      "provenance": [],
      "gpuType": "T4",
      "authorship_tag": "ABX9TyMzJfLcKG8H8ZafN3d24e5r"
    },
    "kernelspec": {
      "name": "python3",
      "display_name": "Python 3"
    },
    "language_info": {
      "name": "python"
    },
    "accelerator": "GPU"
  },
  "cells": [
    {
      "cell_type": "code",
      "execution_count": 1,
      "metadata": {
        "colab": {
          "base_uri": "https://localhost:8080/"
        },
        "id": "vtMZFltxDp87",
        "outputId": "d00da039-885a-4562-b62c-7e4907ae1f4b"
      },
      "outputs": [
        {
          "output_type": "stream",
          "name": "stdout",
          "text": [
            "Mounted at /gdrive\n"
          ]
        }
      ],
      "source": [
        "from google.colab import drive\n",
        "drive.mount('/gdrive')"
      ]
    },
    {
      "cell_type": "code",
      "source": [
        "import numpy as np # linear algebra\n",
        "import pandas as pd # data processing, CSV file I/O (e.g. pd.read_csv)\n",
        "import matplotlib.pyplot as plt\n",
        "import seaborn as sns\n",
        "import glob\n",
        "import cv2\n",
        "import os"
      ],
      "metadata": {
        "id": "FsBn6BzgDz-0"
      },
      "execution_count": 2,
      "outputs": []
    },
    {
      "cell_type": "code",
      "source": [
        "print(os.listdir(\"/gdrive/My Drive/Goz_Hastaliklari/Diabetic-Normal\"))"
      ],
      "metadata": {
        "colab": {
          "base_uri": "https://localhost:8080/"
        },
        "id": "oVVyrmsHD1mB",
        "outputId": "7154a567-cd30-40b3-abab-e1cbc2956ee1"
      },
      "execution_count": 3,
      "outputs": [
        {
          "output_type": "stream",
          "name": "stdout",
          "text": [
            "['Normal', 'Diabetic Retinopathy']\n"
          ]
        }
      ]
    },
    {
      "cell_type": "code",
      "source": [
        "\n",
        "DATADIR = \"/gdrive/My Drive/Goz_Hastaliklari/Diabetic-Normal\"\n",
        "\n",
        "CATEGORIES = [\"Normal\",\"Diabetic Retinopathy\"]"
      ],
      "metadata": {
        "id": "hPfuNXhED3Nl"
      },
      "execution_count": 6,
      "outputs": []
    },
    {
      "cell_type": "code",
      "source": [
        "IMG_SIZE = 50"
      ],
      "metadata": {
        "id": "yoR71WwGD32Q"
      },
      "execution_count": 5,
      "outputs": []
    },
    {
      "cell_type": "code",
      "source": [
        "all_data = []\n",
        "\n",
        "def create_all_data():\n",
        "    for category in CATEGORIES:\n",
        "        path = os.path.join(DATADIR, category)\n",
        "        class_num = CATEGORIES.index(category)\n",
        "        for img in os.listdir(path):\n",
        "            try:\n",
        "                img_array = cv2.imread(os.path.join(path, img))\n",
        "                new_array = cv2.resize(img_array, (IMG_SIZE, IMG_SIZE))\n",
        "                all_data.append([new_array, class_num])\n",
        "            except Exception as e:\n",
        "                pass\n",
        "\n",
        "create_all_data()\n"
      ],
      "metadata": {
        "id": "n1BhjXmMD54c"
      },
      "execution_count": 7,
      "outputs": []
    },
    {
      "cell_type": "code",
      "source": [
        "print(\"Toplam Görüntü Sayısı: \", len(all_data))"
      ],
      "metadata": {
        "colab": {
          "base_uri": "https://localhost:8080/"
        },
        "id": "Ts1tasbdD7Jz",
        "outputId": "137f13dd-3d3b-4dc6-fcaa-f1a2380e7664"
      },
      "execution_count": 8,
      "outputs": [
        {
          "output_type": "stream",
          "name": "stdout",
          "text": [
            "Toplam Görüntü Sayısı:  2172\n"
          ]
        }
      ]
    },
    {
      "cell_type": "code",
      "source": [
        "X = []\n",
        "y = []\n",
        "\n",
        "for categories, label in all_data:\n",
        "  X.append(categories)\n",
        "  y.append(label)"
      ],
      "metadata": {
        "id": "ZX16ToRkD76o"
      },
      "execution_count": 9,
      "outputs": []
    },
    {
      "cell_type": "code",
      "source": [
        "from sklearn.model_selection import train_test_split\n",
        "\n",
        "x_train, x_test, y_train, y_test = train_test_split(X, y, test_size=0.35, random_state =42)\n",
        "\n",
        "x_train, x_val, y_train, y_val = train_test_split(x_train, y_train, test_size=0.10, random_state=42)\n",
        ""
      ],
      "metadata": {
        "id": "HvQgvEbqD9P6"
      },
      "execution_count": 10,
      "outputs": []
    },
    {
      "cell_type": "code",
      "source": [
        "x_train = np.array(x_train)\n",
        "x_test = np.array(x_test)\n",
        "\n",
        "y_train = np.array(y_train)\n",
        "y_test = np.array(y_test)\n",
        "\n",
        "x_val = np.array(x_val)\n",
        "y_val = np.array(y_val)\n",
        ""
      ],
      "metadata": {
        "id": "fT_mMla1D-lK"
      },
      "execution_count": 11,
      "outputs": []
    },
    {
      "cell_type": "code",
      "source": [
        "print(x_train.shape)\n",
        "print(x_test.shape)\n",
        "print(x_val.shape)\n",
        "\n",
        "print(y_train.shape)\n",
        "print(y_test.shape)\n",
        "print(y_val.shape)"
      ],
      "metadata": {
        "colab": {
          "base_uri": "https://localhost:8080/"
        },
        "id": "7JwDtvheD_Q0",
        "outputId": "9161db58-50bc-49e4-8d70-c6af499396c7"
      },
      "execution_count": 12,
      "outputs": [
        {
          "output_type": "stream",
          "name": "stdout",
          "text": [
            "(1269, 50, 50, 3)\n",
            "(761, 50, 50, 3)\n",
            "(142, 50, 50, 3)\n",
            "(1269,)\n",
            "(761,)\n",
            "(142,)\n"
          ]
        }
      ]
    },
    {
      "cell_type": "code",
      "source": [
        "x_train = x_train.astype('float32')\n",
        "x_val = x_val.astype('float32')\n",
        "x_test = x_test.astype('float32')"
      ],
      "metadata": {
        "id": "Kq9HM0PqEAKQ"
      },
      "execution_count": 13,
      "outputs": []
    },
    {
      "cell_type": "code",
      "source": [
        "\n",
        "import tensorflow as tf\n",
        "\n",
        "train_yCl = tf.keras.utils.to_categorical(y_train, num_classes=2)\n",
        "test_yCl = tf.keras.utils.to_categorical(y_test, num_classes=2)\n",
        "valid_yCl = tf.keras.utils.to_categorical(y_val, num_classes=2)\n",
        ""
      ],
      "metadata": {
        "id": "0hQaB9EhEBKN"
      },
      "execution_count": 14,
      "outputs": []
    },
    {
      "cell_type": "code",
      "source": [
        "\n",
        "from keras.layers import Input, Dense, Activation, BatchNormalization, Flatten, Conv2D, MaxPooling2D, Dropout\n",
        "from keras.models import Sequential\n",
        ""
      ],
      "metadata": {
        "id": "sKXEFm98EByw"
      },
      "execution_count": 15,
      "outputs": []
    },
    {
      "cell_type": "code",
      "source": [
        "\n",
        "res = tf.keras.applications.ResNet50V2(\n",
        "    input_shape=(50, 50, 3),\n",
        "    include_top = False\n",
        ")"
      ],
      "metadata": {
        "colab": {
          "base_uri": "https://localhost:8080/"
        },
        "id": "EoOzSG82ECs_",
        "outputId": "78c7bed9-e80f-489a-ce0a-d6ca14a2ae77"
      },
      "execution_count": 16,
      "outputs": [
        {
          "output_type": "stream",
          "name": "stdout",
          "text": [
            "Downloading data from https://storage.googleapis.com/tensorflow/keras-applications/resnet/resnet50v2_weights_tf_dim_ordering_tf_kernels_notop.h5\n",
            "94668760/94668760 [==============================] - 1s 0us/step\n"
          ]
        }
      ]
    },
    {
      "cell_type": "code",
      "source": [
        "res_model = Sequential()\n",
        "res_model.add(res)\n",
        "res_model.add(Dropout(0.25))\n",
        "res_model.add(MaxPooling2D())\n",
        "res_model.add(Flatten())\n",
        "res_model.add(Dense(256, activation='relu'))\n",
        "res_model.add(BatchNormalization())\n",
        "res_model.add(Dropout(0.5))\n",
        "res_model.add(Dense(2, activation='softmax'))"
      ],
      "metadata": {
        "id": "9DChx3CCEDa2"
      },
      "execution_count": 17,
      "outputs": []
    },
    {
      "cell_type": "code",
      "source": [
        "res_model.compile(loss='categorical_crossentropy', optimizer='adam', metrics=['accuracy'])"
      ],
      "metadata": {
        "id": "eiarBx6yEEyf"
      },
      "execution_count": 18,
      "outputs": []
    },
    {
      "cell_type": "code",
      "source": [
        "history = res_model.fit(x_train, train_yCl,\n",
        "                        batch_size=120,\n",
        "                        epochs=10,\n",
        "                        validation_data=(x_val, valid_yCl))"
      ],
      "metadata": {
        "colab": {
          "base_uri": "https://localhost:8080/"
        },
        "id": "gC7zjFX6EGqJ",
        "outputId": "ab82751e-3d5d-4d7d-9fa7-60babbe3f227"
      },
      "execution_count": 19,
      "outputs": [
        {
          "output_type": "stream",
          "name": "stdout",
          "text": [
            "Epoch 1/10\n",
            "11/11 [==============================] - 46s 524ms/step - loss: 0.5474 - accuracy: 0.8006 - val_loss: 7.8299 - val_accuracy: 0.6549\n",
            "Epoch 2/10\n",
            "11/11 [==============================] - 1s 103ms/step - loss: 0.1346 - accuracy: 0.9598 - val_loss: 24.6232 - val_accuracy: 0.5775\n",
            "Epoch 3/10\n",
            "11/11 [==============================] - 1s 105ms/step - loss: 0.0704 - accuracy: 0.9748 - val_loss: 10.8747 - val_accuracy: 0.6690\n",
            "Epoch 4/10\n",
            "11/11 [==============================] - 1s 103ms/step - loss: 0.0474 - accuracy: 0.9866 - val_loss: 3.5292 - val_accuracy: 0.8239\n",
            "Epoch 5/10\n",
            "11/11 [==============================] - 1s 108ms/step - loss: 0.0230 - accuracy: 0.9898 - val_loss: 1.5377 - val_accuracy: 0.9085\n",
            "Epoch 6/10\n",
            "11/11 [==============================] - 1s 113ms/step - loss: 0.0157 - accuracy: 0.9937 - val_loss: 11.0070 - val_accuracy: 0.7394\n",
            "Epoch 7/10\n",
            "11/11 [==============================] - 1s 107ms/step - loss: 0.0068 - accuracy: 0.9984 - val_loss: 7.8128 - val_accuracy: 0.8028\n",
            "Epoch 8/10\n",
            "11/11 [==============================] - 1s 104ms/step - loss: 0.0024 - accuracy: 0.9992 - val_loss: 3.8653 - val_accuracy: 0.8451\n",
            "Epoch 9/10\n",
            "11/11 [==============================] - 1s 107ms/step - loss: 7.0209e-04 - accuracy: 1.0000 - val_loss: 3.2674 - val_accuracy: 0.8662\n",
            "Epoch 10/10\n",
            "11/11 [==============================] - 1s 105ms/step - loss: 0.0076 - accuracy: 0.9992 - val_loss: 4.0716 - val_accuracy: 0.8239\n"
          ]
        }
      ]
    },
    {
      "cell_type": "code",
      "source": [
        "score_valid = res_model.evaluate(x_val, valid_yCl)\n",
        "print(\"Validation Accuracy: \", score_valid[1])\n",
        "\n",
        "score_test = res_model.evaluate(x_test, test_yCl)\n",
        "print(\"Test Accuracy: \", score_test[1])\n",
        "\n",
        "score_train = res_model.evaluate(x_train, train_yCl)\n",
        "print(\"Train Accuracy: \", score_train[1])"
      ],
      "metadata": {
        "colab": {
          "base_uri": "https://localhost:8080/"
        },
        "id": "N44M3xMtEJJf",
        "outputId": "5bbf8c61-6d50-47d5-9b3f-92507faedcce"
      },
      "execution_count": 20,
      "outputs": [
        {
          "output_type": "stream",
          "name": "stdout",
          "text": [
            "5/5 [==============================] - 2s 232ms/step - loss: 4.0716 - accuracy: 0.8239\n",
            "Validation Accuracy:  0.8239436745643616\n",
            "24/24 [==============================] - 1s 51ms/step - loss: 2.5126 - accuracy: 0.8752\n",
            "Test Accuracy:  0.875164270401001\n",
            "40/40 [==============================] - 1s 36ms/step - loss: 2.8922 - accuracy: 0.8802\n",
            "Train Accuracy:  0.8802206516265869\n"
          ]
        }
      ]
    },
    {
      "cell_type": "code",
      "source": [
        "from sklearn.metrics import accuracy_score, precision_score, recall_score, f1_score, classification_report, confusion_matrix\n",
        "\n",
        "# Test verisi üzerinde tahminlerde bulunun\n",
        "y_pred_probs = res_model.predict(x_test)\n",
        "y_pred_classes = np.argmax(y_pred_probs, axis=1)\n",
        "\n",
        "# Gerçek sınıfları alın\n",
        "y_true_classes = np.argmax(test_yCl, axis=1)\n",
        "\n",
        "# Accuracy\n",
        "accuracy = accuracy_score(y_true_classes, y_pred_classes)\n",
        "print(f\"Accuracy: {accuracy}\")\n",
        "\n",
        "# Precision\n",
        "precision = precision_score(y_true_classes, y_pred_classes, average='weighted')\n",
        "print(f\"Precision: {precision}\")\n",
        "\n",
        "# Recall\n",
        "recall = recall_score(y_true_classes, y_pred_classes, average='weighted')\n",
        "print(f\"Recall: {recall}\")\n",
        "\n",
        "# F1 Score\n",
        "f1 = f1_score(y_true_classes, y_pred_classes, average='weighted')\n",
        "print(f\"F1-Score: {f1}\")\n",
        "\n",
        "# Classification Report\n",
        "print(\"Classification Report:\")\n",
        "print(classification_report(y_true_classes, y_pred_classes))\n",
        "\n",
        "# Confusion Matrix\n",
        "cm = confusion_matrix(y_true_classes, y_pred_classes)\n",
        "print(\"Confusion Matrix:\")\n",
        "print(cm)"
      ],
      "metadata": {
        "colab": {
          "base_uri": "https://localhost:8080/"
        },
        "id": "y3nXGiPrEKak",
        "outputId": "6f965d15-1a71-4776-abb6-eebb7d37f4f7"
      },
      "execution_count": 21,
      "outputs": [
        {
          "output_type": "stream",
          "name": "stdout",
          "text": [
            "24/24 [==============================] - 2s 30ms/step\n",
            "Accuracy: 0.8751642575558476\n",
            "Precision: 0.8975846404466046\n",
            "Recall: 0.8751642575558476\n",
            "F1-Score: 0.8730853642388936\n",
            "Classification Report:\n",
            "              precision    recall  f1-score   support\n",
            "\n",
            "           0       0.81      0.99      0.89       387\n",
            "           1       0.99      0.75      0.86       374\n",
            "\n",
            "    accuracy                           0.88       761\n",
            "   macro avg       0.90      0.87      0.87       761\n",
            "weighted avg       0.90      0.88      0.87       761\n",
            "\n",
            "Confusion Matrix:\n",
            "[[385   2]\n",
            " [ 93 281]]\n"
          ]
        }
      ]
    },
    {
      "cell_type": "code",
      "source": [
        "\n",
        "from sklearn.metrics import confusion_matrix\n",
        "import seaborn as sns\n",
        "import matplotlib.pyplot as plt\n",
        "\n",
        "cm = confusion_matrix(y_true_classes, y_pred_classes)\n",
        "sns.heatmap(cm, annot=True, fmt=\"d\", cmap=\"Blues\", xticklabels=CATEGORIES, yticklabels=CATEGORIES)\n",
        "plt.title(\"Confusion Matrix\")\n",
        "plt.xlabel(\"Predicted\")\n",
        "plt.ylabel(\"True\")\n",
        "plt.show()"
      ],
      "metadata": {
        "colab": {
          "base_uri": "https://localhost:8080/",
          "height": 472
        },
        "id": "D0mwc-hbELhU",
        "outputId": "69020b69-2ffe-458d-d577-80fab3b3a529"
      },
      "execution_count": 22,
      "outputs": [
        {
          "output_type": "display_data",
          "data": {
            "text/plain": [
              "<Figure size 640x480 with 2 Axes>"
            ],
            "image/png": "[encoded data removed]"
          },
          "metadata": {}
        }
      ]
    },
    {
      "cell_type": "code",
      "source": [
        "from sklearn.model_selection import train_test_split\n",
        "\n",
        "x_train, x_test, y_train, y_test = train_test_split(X, y, test_size=0.20, random_state =42)\n",
        "\n",
        "x_train, x_val, y_train, y_val = train_test_split(x_train, y_train, test_size=0.10, random_state=42)\n",
        ""
      ],
      "metadata": {
        "id": "WZ-1VxBTEMyI"
      },
      "execution_count": 23,
      "outputs": []
    },
    {
      "cell_type": "code",
      "source": [
        "\n",
        "x_train = np.array(x_train)\n",
        "x_test = np.array(x_test)\n",
        "\n",
        "y_train = np.array(y_train)\n",
        "y_test = np.array(y_test)\n",
        "\n",
        "x_val = np.array(x_val)\n",
        "y_val = np.array(y_val)"
      ],
      "metadata": {
        "id": "7CjXWrqaEO3v"
      },
      "execution_count": 24,
      "outputs": []
    },
    {
      "cell_type": "code",
      "source": [
        "print(x_train.shape)\n",
        "print(x_test.shape)\n",
        "print(x_val.shape)\n",
        "\n",
        "print(y_train.shape)\n",
        "print(y_test.shape)\n",
        "print(y_val.shape)\n",
        ""
      ],
      "metadata": {
        "colab": {
          "base_uri": "https://localhost:8080/"
        },
        "id": "5_qyYftXEPpC",
        "outputId": "58846cf8-6c98-4ee7-b96f-ada4298af095"
      },
      "execution_count": 25,
      "outputs": [
        {
          "output_type": "stream",
          "name": "stdout",
          "text": [
            "(1563, 50, 50, 3)\n",
            "(435, 50, 50, 3)\n",
            "(174, 50, 50, 3)\n",
            "(1563,)\n",
            "(435,)\n",
            "(174,)\n"
          ]
        }
      ]
    },
    {
      "cell_type": "code",
      "source": [
        "\n",
        "x_train = x_train.astype('float32')\n",
        "x_val = x_val.astype('float32')\n",
        "x_test = x_test.astype('float32')\n",
        ""
      ],
      "metadata": {
        "id": "ubgOjoKEEQWn"
      },
      "execution_count": 26,
      "outputs": []
    },
    {
      "cell_type": "code",
      "source": [
        "import tensorflow as tf\n",
        "\n",
        "train_yCl = tf.keras.utils.to_categorical(y_train, num_classes=2)\n",
        "test_yCl = tf.keras.utils.to_categorical(y_test, num_classes=2)\n",
        "valid_yCl = tf.keras.utils.to_categorical(y_val, num_classes=2)"
      ],
      "metadata": {
        "id": "xL9rxVZ2ERGR"
      },
      "execution_count": 27,
      "outputs": []
    },
    {
      "cell_type": "code",
      "source": [
        "\n",
        "from keras.layers import Input, Dense, Activation, BatchNormalization, Flatten, Conv2D, MaxPooling2D, Dropout\n",
        "from keras.models import Sequential"
      ],
      "metadata": {
        "id": "X__sPIVvERzy"
      },
      "execution_count": 28,
      "outputs": []
    },
    {
      "cell_type": "code",
      "source": [
        "\n",
        "res = tf.keras.applications.ResNet50V2(\n",
        "    input_shape=(50, 50, 3),\n",
        "    include_top = False\n",
        ")"
      ],
      "metadata": {
        "id": "Urh6gYpMES5p"
      },
      "execution_count": 29,
      "outputs": []
    },
    {
      "cell_type": "code",
      "source": [
        "\n",
        "res_model = Sequential()\n",
        "res_model.add(res)\n",
        "res_model.add(Dropout(0.25))\n",
        "res_model.add(MaxPooling2D())\n",
        "res_model.add(Flatten())\n",
        "res_model.add(Dense(256, activation='relu'))\n",
        "res_model.add(BatchNormalization())\n",
        "res_model.add(Dropout(0.5))\n",
        "res_model.add(Dense(2, activation='softmax'))"
      ],
      "metadata": {
        "id": "5PcwG2WYETz1"
      },
      "execution_count": 30,
      "outputs": []
    },
    {
      "cell_type": "code",
      "source": [
        "res_model.compile(loss='categorical_crossentropy', optimizer='adam', metrics=['accuracy'])"
      ],
      "metadata": {
        "id": "07d5q9UaEVkw"
      },
      "execution_count": 31,
      "outputs": []
    },
    {
      "cell_type": "code",
      "source": [
        "history = res_model.fit(x_train, train_yCl,\n",
        "                        batch_size=120,\n",
        "                        epochs=10,\n",
        "                        validation_data=(x_val, valid_yCl))"
      ],
      "metadata": {
        "colab": {
          "base_uri": "https://localhost:8080/"
        },
        "id": "lL8BoIMVEXM8",
        "outputId": "a197dcd2-4de9-43d2-8859-f8b03371694e"
      },
      "execution_count": 32,
      "outputs": [
        {
          "output_type": "stream",
          "name": "stdout",
          "text": [
            "Epoch 1/10\n",
            "14/14 [==============================] - 32s 325ms/step - loss: 0.5261 - accuracy: 0.8221 - val_loss: 3.4796 - val_accuracy: 0.5977\n",
            "Epoch 2/10\n",
            "14/14 [==============================] - 2s 110ms/step - loss: 0.1500 - accuracy: 0.9443 - val_loss: 18.7698 - val_accuracy: 0.5460\n",
            "Epoch 3/10\n",
            "14/14 [==============================] - 1s 101ms/step - loss: 0.2740 - accuracy: 0.8996 - val_loss: 223.7476 - val_accuracy: 0.4943\n",
            "Epoch 4/10\n",
            "14/14 [==============================] - 1s 101ms/step - loss: 0.2165 - accuracy: 0.9213 - val_loss: 127.6338 - val_accuracy: 0.5057\n",
            "Epoch 5/10\n",
            "14/14 [==============================] - 1s 102ms/step - loss: 0.0453 - accuracy: 0.9859 - val_loss: 49.3552 - val_accuracy: 0.5460\n",
            "Epoch 6/10\n",
            "14/14 [==============================] - 1s 104ms/step - loss: 0.0380 - accuracy: 0.9904 - val_loss: 3.7945 - val_accuracy: 0.6897\n",
            "Epoch 7/10\n",
            "14/14 [==============================] - 1s 101ms/step - loss: 0.0240 - accuracy: 0.9942 - val_loss: 6.4438 - val_accuracy: 0.6322\n",
            "Epoch 8/10\n",
            "14/14 [==============================] - 1s 102ms/step - loss: 0.0449 - accuracy: 0.9872 - val_loss: 13.1201 - val_accuracy: 0.5747\n",
            "Epoch 9/10\n",
            "14/14 [==============================] - 1s 102ms/step - loss: 0.0363 - accuracy: 0.9917 - val_loss: 0.6796 - val_accuracy: 0.8736\n",
            "Epoch 10/10\n",
            "14/14 [==============================] - 1s 106ms/step - loss: 0.0413 - accuracy: 0.9866 - val_loss: 0.1035 - val_accuracy: 0.9598\n"
          ]
        }
      ]
    },
    {
      "cell_type": "code",
      "source": [
        "\n",
        "score_valid = res_model.evaluate(x_val, valid_yCl)\n",
        "print(\"Validation Accuracy: \", score_valid[1])\n",
        "\n",
        "score_test = res_model.evaluate(x_test, test_yCl)\n",
        "print(\"Test Accuracy: \", score_test[1])\n",
        "\n",
        "score_train = res_model.evaluate(x_train, train_yCl)\n",
        "print(\"Train Accuracy: \", score_train[1])\n",
        ""
      ],
      "metadata": {
        "colab": {
          "base_uri": "https://localhost:8080/"
        },
        "id": "WvF_RFEqEY6D",
        "outputId": "263eaf3c-f408-465b-e34d-94f5d053b9c6"
      },
      "execution_count": 33,
      "outputs": [
        {
          "output_type": "stream",
          "name": "stdout",
          "text": [
            "6/6 [==============================] - 0s 22ms/step - loss: 0.1035 - accuracy: 0.9598\n",
            "Validation Accuracy:  0.959770143032074\n",
            "14/14 [==============================] - 1s 99ms/step - loss: 0.1044 - accuracy: 0.9747\n",
            "Test Accuracy:  0.9747126698493958\n",
            "49/49 [==============================] - 2s 37ms/step - loss: 0.1503 - accuracy: 0.9597\n",
            "Train Accuracy:  0.9596928954124451\n"
          ]
        }
      ]
    },
    {
      "cell_type": "code",
      "source": [
        "from sklearn.metrics import accuracy_score, precision_score, recall_score, f1_score, classification_report, confusion_matrix\n",
        "\n",
        "# Test verisi üzerinde tahminlerde bulunun\n",
        "y_pred_probs = res_model.predict(x_test)\n",
        "y_pred_classes = np.argmax(y_pred_probs, axis=1)\n",
        "\n",
        "# Gerçek sınıfları alın\n",
        "y_true_classes = np.argmax(test_yCl, axis=1)\n",
        "\n",
        "# Accuracy\n",
        "accuracy = accuracy_score(y_true_classes, y_pred_classes)\n",
        "print(f\"Accuracy: {accuracy}\")\n",
        "\n",
        "# Precision\n",
        "precision = precision_score(y_true_classes, y_pred_classes, average='weighted')\n",
        "print(f\"Precision: {precision}\")\n",
        "\n",
        "# Recall\n",
        "recall = recall_score(y_true_classes, y_pred_classes, average='weighted')\n",
        "print(f\"Recall: {recall}\")\n",
        "\n",
        "# F1 Score\n",
        "f1 = f1_score(y_true_classes, y_pred_classes, average='weighted')\n",
        "print(f\"F1-Score: {f1}\")\n",
        "\n",
        "# Classification Report\n",
        "print(\"Classification Report:\")\n",
        "print(classification_report(y_true_classes, y_pred_classes))\n",
        "\n",
        "# Confusion Matrix\n",
        "cm = confusion_matrix(y_true_classes, y_pred_classes)\n",
        "print(\"Confusion Matrix:\")\n",
        "print(cm)"
      ],
      "metadata": {
        "colab": {
          "base_uri": "https://localhost:8080/"
        },
        "id": "7datLvk-EaDg",
        "outputId": "a5cc83fd-ab52-45f6-e075-879d128f71ec"
      },
      "execution_count": 34,
      "outputs": [
        {
          "output_type": "stream",
          "name": "stdout",
          "text": [
            "14/14 [==============================] - 1s 11ms/step\n",
            "Accuracy: 0.9747126436781609\n",
            "Precision: 0.9752139220327661\n",
            "Recall: 0.9747126436781609\n",
            "F1-Score: 0.97471077272838\n",
            "Classification Report:\n",
            "              precision    recall  f1-score   support\n",
            "\n",
            "           0       0.99      0.96      0.97       220\n",
            "           1       0.96      0.99      0.97       215\n",
            "\n",
            "    accuracy                           0.97       435\n",
            "   macro avg       0.98      0.97      0.97       435\n",
            "weighted avg       0.98      0.97      0.97       435\n",
            "\n",
            "Confusion Matrix:\n",
            "[[211   9]\n",
            " [  2 213]]\n"
          ]
        }
      ]
    },
    {
      "cell_type": "code",
      "source": [
        "from sklearn.metrics import confusion_matrix\n",
        "import seaborn as sns\n",
        "import matplotlib.pyplot as plt\n",
        "\n",
        "cm = confusion_matrix(y_true_classes, y_pred_classes)\n",
        "sns.heatmap(cm, annot=True, fmt=\"d\", cmap=\"Blues\", xticklabels=CATEGORIES, yticklabels=CATEGORIES)\n",
        "plt.title(\"Confusion Matrix\")\n",
        "plt.xlabel(\"Predicted\")\n",
        "plt.ylabel(\"True\")\n",
        "plt.show()"
      ],
      "metadata": {
        "colab": {
          "base_uri": "https://localhost:8080/",
          "height": 472
        },
        "id": "J0y6ji2FEbMo",
        "outputId": "10f65521-190d-4409-85fb-be9e241820e0"
      },
      "execution_count": 35,
      "outputs": [
        {
          "output_type": "display_data",
          "data": {
            "text/plain": [
              "<Figure size 640x480 with 2 Axes>"
            ],
            "image/png": "[encoded data removed]"
          },
          "metadata": {}
        }
      ]
    }
  ]
}