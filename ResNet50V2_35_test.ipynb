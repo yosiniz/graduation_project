{
  "nbformat": 4,
  "nbformat_minor": 0,
  "metadata": {
    "colab": {
      "provenance": [],
      "gpuType": "T4",
      "authorship_tag": "ABX9TyM3tAwYljh1EYKYeZyOh9ru"
    },
    "kernelspec": {
      "name": "python3",
      "display_name": "Python 3"
    },
    "language_info": {
      "name": "python"
    },
    "accelerator": "GPU"
  },
  "cells": [
    {
      "cell_type": "code",
      "execution_count": 1,
      "metadata": {
        "colab": {
          "base_uri": "https://localhost:8080/"
        },
        "id": "y9hkoZwmPwC7",
        "outputId": "c862b240-30d2-4550-8246-5cb1a7a1cf6b"
      },
      "outputs": [
        {
          "output_type": "stream",
          "name": "stdout",
          "text": [
            "Mounted at /gdrive\n"
          ]
        }
      ],
      "source": [
        "from google.colab import drive\n",
        "drive.mount('/gdrive')"
      ]
    },
    {
      "cell_type": "code",
      "source": [
        "import numpy as np # linear algebra\n",
        "import pandas as pd # data processing, CSV file I/O (e.g. pd.read_csv)\n",
        "import matplotlib.pyplot as plt\n",
        "import seaborn as sns\n",
        "import glob\n",
        "import cv2\n",
        "import os\n"
      ],
      "metadata": {
        "id": "Rvh9kYNmRHB3"
      },
      "execution_count": 2,
      "outputs": []
    },
    {
      "cell_type": "code",
      "source": [
        "print(os.listdir(\"/gdrive/My Drive/Retinal Imaging/Eyes\"))"
      ],
      "metadata": {
        "colab": {
          "base_uri": "https://localhost:8080/"
        },
        "id": "XHJwSpO9bPI6",
        "outputId": "3d441ccd-bdec-4cdf-9666-620c77b853f1"
      },
      "execution_count": 3,
      "outputs": [
        {
          "output_type": "stream",
          "name": "stdout",
          "text": [
            "['Cataract', 'Normal', 'Diabetic Retinopathy', 'Glaucoma']\n"
          ]
        }
      ]
    },
    {
      "cell_type": "code",
      "source": [
        "DATADIR = \"/gdrive/My Drive/Retinal Imaging/Eyes\"\n",
        "\n",
        "CATEGORIES = [\"Cataract\",\"Diabetic Retinopathy\",\"Glaucoma\",\"Normal\"]"
      ],
      "metadata": {
        "id": "KtJQgVVNbcE_"
      },
      "execution_count": 4,
      "outputs": []
    },
    {
      "cell_type": "code",
      "source": [
        "IMG_SIZE = 50"
      ],
      "metadata": {
        "id": "diuc5dw1btbw"
      },
      "execution_count": 5,
      "outputs": []
    },
    {
      "cell_type": "code",
      "source": [
        "all_data = []\n",
        "\n",
        "def create_all_data():\n",
        "    for category in CATEGORIES:\n",
        "        path = os.path.join(DATADIR, category)\n",
        "        class_num = CATEGORIES.index(category)\n",
        "        for img in os.listdir(path):\n",
        "            try:\n",
        "                img_array = cv2.imread(os.path.join(path, img))\n",
        "                new_array = cv2.resize(img_array, (IMG_SIZE, IMG_SIZE))\n",
        "                all_data.append([new_array, class_num])\n",
        "            except Exception as e:\n",
        "                pass\n",
        "\n",
        "create_all_data()\n"
      ],
      "metadata": {
        "id": "Z_jWi2ekbvl6"
      },
      "execution_count": 6,
      "outputs": []
    },
    {
      "cell_type": "code",
      "source": [
        "print(\"Toplam Görüntü Sayısı: \", len(all_data))"
      ],
      "metadata": {
        "colab": {
          "base_uri": "https://localhost:8080/"
        },
        "id": "3af5gabYcWay",
        "outputId": "acd0bfcd-a868-4922-f944-184e056cb8f3"
      },
      "execution_count": 7,
      "outputs": [
        {
          "output_type": "stream",
          "name": "stdout",
          "text": [
            "Toplam Görüntü Sayısı:  4217\n"
          ]
        }
      ]
    },
    {
      "cell_type": "code",
      "source": [
        "X = []\n",
        "y = []\n",
        "\n",
        "for categories, label in all_data:\n",
        "  X.append(categories)\n",
        "  y.append(label)\n"
      ],
      "metadata": {
        "id": "NeR-qn0FcTYk"
      },
      "execution_count": 8,
      "outputs": []
    },
    {
      "cell_type": "code",
      "source": [
        "from sklearn.model_selection import train_test_split\n",
        "\n",
        "x_train, x_test, y_train, y_test = train_test_split(X, y, test_size=0.35, random_state =42)\n",
        "\n",
        "x_train, x_val, y_train, y_val = train_test_split(x_train, y_train, test_size=0.10, random_state=42)"
      ],
      "metadata": {
        "id": "nLGsHDHfcayY"
      },
      "execution_count": 9,
      "outputs": []
    },
    {
      "cell_type": "code",
      "source": [
        "x_train = np.array(x_train)\n",
        "x_test = np.array(x_test)\n",
        "\n",
        "y_train = np.array(y_train)\n",
        "y_test = np.array(y_test)\n",
        "\n",
        "x_val = np.array(x_val)\n",
        "y_val = np.array(y_val)"
      ],
      "metadata": {
        "id": "WIxY9sz2cccS"
      },
      "execution_count": 10,
      "outputs": []
    },
    {
      "cell_type": "code",
      "source": [
        "print(x_train.shape)\n",
        "print(x_test.shape)\n",
        "print(x_val.shape)\n",
        "\n",
        "print(y_train.shape)\n",
        "print(y_test.shape)\n",
        "print(y_val.shape)"
      ],
      "metadata": {
        "colab": {
          "base_uri": "https://localhost:8080/"
        },
        "id": "YrEJx_p1cd8B",
        "outputId": "fd64782b-5bb6-4b26-d7a2-2b096012bc21"
      },
      "execution_count": 11,
      "outputs": [
        {
          "output_type": "stream",
          "name": "stdout",
          "text": [
            "(2466, 50, 50, 3)\n",
            "(1476, 50, 50, 3)\n",
            "(275, 50, 50, 3)\n",
            "(2466,)\n",
            "(1476,)\n",
            "(275,)\n"
          ]
        }
      ]
    },
    {
      "cell_type": "code",
      "source": [
        "x_train = x_train.astype('float32')\n",
        "x_val = x_val.astype('float32')\n",
        "x_test = x_test.astype('float32')"
      ],
      "metadata": {
        "id": "D40CffSheMOs"
      },
      "execution_count": 14,
      "outputs": []
    },
    {
      "cell_type": "code",
      "source": [
        "import tensorflow as tf\n",
        "\n",
        "train_yCl = tf.keras.utils.to_categorical(y_train, num_classes=4)\n",
        "test_yCl = tf.keras.utils.to_categorical(y_test, num_classes=4)\n",
        "valid_yCl = tf.keras.utils.to_categorical(y_val, num_classes=4)"
      ],
      "metadata": {
        "id": "OUZ6Z2xndlVx"
      },
      "execution_count": 15,
      "outputs": []
    },
    {
      "cell_type": "code",
      "source": [
        "from keras.layers import Input, Dense, Activation, BatchNormalization, Flatten, Conv2D, MaxPooling2D, Dropout\n",
        "from keras.models import Sequential"
      ],
      "metadata": {
        "id": "eieDbueWeTc5"
      },
      "execution_count": 16,
      "outputs": []
    },
    {
      "cell_type": "code",
      "source": [
        "res = tf.keras.applications.ResNet50V2(\n",
        "    input_shape=(50, 50, 3),\n",
        "    include_top = False\n",
        ")"
      ],
      "metadata": {
        "id": "sTvASE65eui6"
      },
      "execution_count": 18,
      "outputs": []
    },
    {
      "cell_type": "code",
      "source": [
        "res_model = Sequential()\n",
        "res_model.add(res)\n",
        "res_model.add(Dropout(0.25))\n",
        "res_model.add(MaxPooling2D())\n",
        "res_model.add(Flatten())\n",
        "res_model.add(Dense(256, activation='relu'))\n",
        "res_model.add(BatchNormalization())\n",
        "res_model.add(Dropout(0.5))\n",
        "res_model.add(Dense(4, activation='softmax'))"
      ],
      "metadata": {
        "id": "rDQ8p3bEesBe"
      },
      "execution_count": 19,
      "outputs": []
    },
    {
      "cell_type": "code",
      "source": [
        "res_model.compile(loss='categorical_crossentropy', optimizer='adam', metrics=['accuracy'])"
      ],
      "metadata": {
        "id": "h5PJmxnRe2PD"
      },
      "execution_count": 20,
      "outputs": []
    },
    {
      "cell_type": "code",
      "source": [
        "history = res_model.fit(x_train, train_yCl,\n",
        "                        batch_size=120,\n",
        "                        epochs=10,\n",
        "                        validation_data=(x_val, valid_yCl))"
      ],
      "metadata": {
        "colab": {
          "base_uri": "https://localhost:8080/"
        },
        "id": "DImxNulee4dy",
        "outputId": "fc0e0ed8-8fda-4b28-f66b-f7c3637be96c"
      },
      "execution_count": 21,
      "outputs": [
        {
          "output_type": "stream",
          "name": "stdout",
          "text": [
            "Epoch 1/10\n",
            "21/21 [==============================] - 41s 346ms/step - loss: 1.2735 - accuracy: 0.5369 - val_loss: 46.9308 - val_accuracy: 0.2727\n",
            "Epoch 2/10\n",
            "21/21 [==============================] - 2s 104ms/step - loss: 0.6634 - accuracy: 0.7259 - val_loss: 5.6779 - val_accuracy: 0.5564\n",
            "Epoch 3/10\n",
            "21/21 [==============================] - 2s 103ms/step - loss: 0.4664 - accuracy: 0.8029 - val_loss: 5.6679 - val_accuracy: 0.6364\n",
            "Epoch 4/10\n",
            "21/21 [==============================] - 2s 107ms/step - loss: 0.3751 - accuracy: 0.8508 - val_loss: 11.0981 - val_accuracy: 0.5782\n",
            "Epoch 5/10\n",
            "21/21 [==============================] - 2s 109ms/step - loss: 0.2773 - accuracy: 0.8978 - val_loss: 3.4615 - val_accuracy: 0.7055\n",
            "Epoch 6/10\n",
            "21/21 [==============================] - 2s 119ms/step - loss: 0.2337 - accuracy: 0.9173 - val_loss: 3.6198 - val_accuracy: 0.7345\n",
            "Epoch 7/10\n",
            "21/21 [==============================] - 2s 109ms/step - loss: 0.1843 - accuracy: 0.9371 - val_loss: 3.6061 - val_accuracy: 0.6509\n",
            "Epoch 8/10\n",
            "21/21 [==============================] - 2s 103ms/step - loss: 0.1732 - accuracy: 0.9400 - val_loss: 1.6544 - val_accuracy: 0.7273\n",
            "Epoch 9/10\n",
            "21/21 [==============================] - 2s 103ms/step - loss: 0.1738 - accuracy: 0.9436 - val_loss: 1.6129 - val_accuracy: 0.7636\n",
            "Epoch 10/10\n",
            "21/21 [==============================] - 2s 107ms/step - loss: 0.1388 - accuracy: 0.9505 - val_loss: 2.5032 - val_accuracy: 0.6982\n"
          ]
        }
      ]
    },
    {
      "cell_type": "code",
      "source": [
        "score_valid = res_model.evaluate(x_val, valid_yCl)\n",
        "print(\"Validation Accuracy: \", score_valid[1])\n",
        "\n",
        "score_test = res_model.evaluate(x_test, test_yCl)\n",
        "print(\"Test Accuracy: \", score_test[1])\n",
        "\n",
        "score_train = res_model.evaluate(x_train, train_yCl)\n",
        "print(\"Train Accuracy: \", score_train[1])"
      ],
      "metadata": {
        "colab": {
          "base_uri": "https://localhost:8080/"
        },
        "id": "2jmQZvTUfauE",
        "outputId": "eb68099c-bb30-4386-b567-7c9aac136a27"
      },
      "execution_count": 22,
      "outputs": [
        {
          "output_type": "stream",
          "name": "stdout",
          "text": [
            "9/9 [==============================] - 3s 124ms/step - loss: 2.5032 - accuracy: 0.6982\n",
            "Validation Accuracy:  0.6981818079948425\n",
            "47/47 [==============================] - 2s 34ms/step - loss: 2.3979 - accuracy: 0.7202\n",
            "Test Accuracy:  0.7201896905899048\n",
            "78/78 [==============================] - 2s 21ms/step - loss: 1.7731 - accuracy: 0.7818\n",
            "Train Accuracy:  0.7818329334259033\n"
          ]
        }
      ]
    },
    {
      "cell_type": "code",
      "source": [
        "from sklearn.metrics import accuracy_score, precision_score, recall_score, f1_score, classification_report, confusion_matrix\n",
        "\n",
        "# Test verisi üzerinde tahminlerde bulunun\n",
        "y_pred_probs = res_model.predict(x_test)\n",
        "y_pred_classes = np.argmax(y_pred_probs, axis=1)\n",
        "\n",
        "# Gerçek sınıfları alın\n",
        "y_true_classes = np.argmax(test_yCl, axis=1)\n",
        "\n",
        "# Accuracy\n",
        "accuracy = accuracy_score(y_true_classes, y_pred_classes)\n",
        "print(f\"Accuracy: {accuracy}\")\n",
        "\n",
        "# Precision\n",
        "precision = precision_score(y_true_classes, y_pred_classes, average='weighted')\n",
        "print(f\"Precision: {precision}\")\n",
        "\n",
        "# Recall\n",
        "recall = recall_score(y_true_classes, y_pred_classes, average='weighted')\n",
        "print(f\"Recall: {recall}\")\n",
        "\n",
        "# F1 Score\n",
        "f1 = f1_score(y_true_classes, y_pred_classes, average='weighted')\n",
        "print(f\"F1-Score: {f1}\")\n",
        "\n",
        "# Classification Report\n",
        "print(\"Classification Report:\")\n",
        "print(classification_report(y_true_classes, y_pred_classes))\n",
        "\n",
        "# Confusion Matrix\n",
        "cm = confusion_matrix(y_true_classes, y_pred_classes)\n",
        "print(\"Confusion Matrix:\")\n",
        "print(cm)\n"
      ],
      "metadata": {
        "colab": {
          "base_uri": "https://localhost:8080/"
        },
        "id": "jzy2GaIJfe3X",
        "outputId": "38226570-373b-425b-d7ec-ea369adde37b"
      },
      "execution_count": 23,
      "outputs": [
        {
          "output_type": "stream",
          "name": "stdout",
          "text": [
            "47/47 [==============================] - 5s 21ms/step\n",
            "Accuracy: 0.7201897018970189\n",
            "Precision: 0.7882739870170001\n",
            "Recall: 0.7201897018970189\n",
            "F1-Score: 0.7040625075604383\n",
            "Classification Report:\n",
            "              precision    recall  f1-score   support\n",
            "\n",
            "           0       0.98      0.35      0.52       374\n",
            "           1       0.99      0.98      0.99       395\n",
            "           2       0.56      0.57      0.56       345\n",
            "           3       0.58      0.96      0.72       362\n",
            "\n",
            "    accuracy                           0.72      1476\n",
            "   macro avg       0.78      0.72      0.70      1476\n",
            "weighted avg       0.79      0.72      0.70      1476\n",
            "\n",
            "Confusion Matrix:\n",
            "[[131   0 138 105]\n",
            " [  0 388   3   4]\n",
            " [  2   1 195 147]\n",
            " [  0   1  12 349]]\n"
          ]
        }
      ]
    },
    {
      "cell_type": "code",
      "source": [
        "from sklearn.metrics import confusion_matrix\n",
        "import seaborn as sns\n",
        "import matplotlib.pyplot as plt\n",
        "\n",
        "cm = confusion_matrix(y_true_classes, y_pred_classes)\n",
        "sns.heatmap(cm, annot=True, fmt=\"d\", cmap=\"Blues\", xticklabels=CATEGORIES, yticklabels=CATEGORIES)\n",
        "plt.title(\"Confusion Matrix\")\n",
        "plt.xlabel(\"Predicted\")\n",
        "plt.ylabel(\"True\")\n",
        "plt.show()\n"
      ],
      "metadata": {
        "colab": {
          "base_uri": "https://localhost:8080/",
          "height": 604
        },
        "id": "riLz-sU4fhRH",
        "outputId": "d5c32fe9-6f59-4a0d-d089-898ee7352974"
      },
      "execution_count": 24,
      "outputs": [
        {
          "output_type": "display_data",
          "data": {
            "text/plain": [
              "<Figure size 640x480 with 2 Axes>"
            ],
            "image/png": "[encoded data removed]"
          },
          "metadata": {}
        }
      ]
    }
  ]
}