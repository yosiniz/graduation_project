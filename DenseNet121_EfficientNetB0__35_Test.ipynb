{
  "nbformat": 4,
  "nbformat_minor": 0,
  "metadata": {
    "colab": {
      "provenance": [],
      "gpuType": "T4",
      "authorship_tag": "ABX9TyOKG/EOwJO53MEjuEdfgMZo"
    },
    "kernelspec": {
      "name": "python3",
      "display_name": "Python 3"
    },
    "language_info": {
      "name": "python"
    },
    "accelerator": "GPU"
  },
  "cells": [
    {
      "cell_type": "code",
      "execution_count": 1,
      "metadata": {
        "colab": {
          "base_uri": "https://localhost:8080/"
        },
        "id": "S2f-LENlhFz5",
        "outputId": "e118c667-eaea-4d20-e1aa-5bf452c95499"
      },
      "outputs": [
        {
          "output_type": "stream",
          "name": "stdout",
          "text": [
            "Mounted at /gdrive\n"
          ]
        }
      ],
      "source": [
        "from google.colab import drive\n",
        "drive.mount('/gdrive')"
      ]
    },
    {
      "cell_type": "code",
      "source": [
        "import os\n",
        "import numpy as np\n",
        "import cv2\n",
        "from sklearn.model_selection import train_test_split\n",
        "from sklearn.metrics import accuracy_score, precision_score, recall_score, f1_score, confusion_matrix, classification_report\n",
        "import tensorflow as tf\n",
        "from tensorflow.keras import layers, models\n",
        "import pandas as pd\n",
        "import matplotlib.pyplot as plt\n",
        "import seaborn as sns\n",
        "import glob"
      ],
      "metadata": {
        "id": "xidn7BI8hNLW"
      },
      "execution_count": 2,
      "outputs": []
    },
    {
      "cell_type": "code",
      "source": [
        "#import os\n",
        "print(os.listdir(\"/gdrive/My Drive/Retinal Imaging/Eyes\"))\n",
        "\n",
        "data_dir = '/gdrive/My Drive/Retinal Imaging/Eyes'\n",
        "\n",
        "img_height, img_width = 50, 50\n",
        "data_path = \"/gdrive/My Drive/Retinal Imaging/Eyes\"\n",
        "Cataract_path = os.path.join(data_path, \"Cataract\")\n",
        "Diabetic_Retinopathy_path = os.path.join(data_path, \"Diabetic Retinopathy\")\n",
        "Glaucoma_path = os.path.join(data_path, \"Glaucoma\")\n",
        "Normal_path = os.path.join(data_path, \"Normal\")\n",
        ""
      ],
      "metadata": {
        "colab": {
          "base_uri": "https://localhost:8080/"
        },
        "id": "LUccgWC_hZx5",
        "outputId": "a3280e4b-09c7-4b92-9979-8e41680a8d68"
      },
      "execution_count": 4,
      "outputs": [
        {
          "output_type": "stream",
          "name": "stdout",
          "text": [
            "['Normal', 'Diabetic Retinopathy', 'Glaucoma', 'Cataract']\n"
          ]
        }
      ]
    },
    {
      "cell_type": "code",
      "source": [
        "def load_images(folder_path, label):\n",
        "    images = []\n",
        "    labels = []\n",
        "    for filename in os.listdir(folder_path):\n",
        "        img_path = os.path.join(folder_path, filename)\n",
        "        img = cv2.imread(img_path)\n",
        "        if img is None:\n",
        "            print(f\"Error: Unable to read image {img_path}\")\n",
        "            continue\n",
        "        img = cv2.resize(img, (img_height, img_width))\n",
        "        images.append(img)\n",
        "        labels.append(label)\n",
        "    return np.array(images), np.array(labels)\n",
        "\n",
        "Cataract_images, Cataract_labels = load_images(Cataract_path, 0)\n",
        "Diabetic_Retinopathy_images, Diabetic_Retinopathy_labels = load_images(Diabetic_Retinopathy_path, 1)\n",
        "Glaucoma_images, Glaucoma_labels = load_images(Glaucoma_path, 2)\n",
        "Normal_images, Normal_labels = load_images(Normal_path, 3)\n",
        "\n",
        "\n",
        "x = np.concatenate((Cataract_images, Diabetic_Retinopathy_images, Glaucoma_images, Normal_images), axis=0)\n",
        "y = np.concatenate((Cataract_labels, Diabetic_Retinopathy_labels, Glaucoma_labels, Normal_labels), axis=0)\n"
      ],
      "metadata": {
        "id": "AKgsQRXUibwx"
      },
      "execution_count": 21,
      "outputs": []
    },
    {
      "cell_type": "markdown",
      "source": [
        "**%35 ayırma**"
      ],
      "metadata": {
        "id": "jTJyDcSwqXcj"
      }
    },
    {
      "cell_type": "code",
      "source": [
        "# Veri setini ayırma\n",
        "x_train, x_test, y_train, y_test = train_test_split(x, y, test_size=0.35, random_state =42)\n",
        "\n",
        "x_train, x_val, y_train, y_val = train_test_split(x_train, y_train, test_size=0.10, random_state=42)"
      ],
      "metadata": {
        "id": "ziqfXn7Yk5i4"
      },
      "execution_count": 22,
      "outputs": []
    },
    {
      "cell_type": "code",
      "source": [
        "x_train = np.array(x_train)\n",
        "x_test = np.array(x_test)\n",
        "\n",
        "y_train = np.array(y_train)\n",
        "y_test = np.array(y_test)\n",
        "\n",
        "x_val = np.array(x_val)\n",
        "y_val = np.array(y_val)"
      ],
      "metadata": {
        "id": "P4J0cTU_lQjm"
      },
      "execution_count": 23,
      "outputs": []
    },
    {
      "cell_type": "code",
      "source": [
        "import tensorflow as tf\n",
        "\n",
        "train_yCl = tf.keras.utils.to_categorical(y_train, num_classes=4)\n",
        "test_yCl = tf.keras.utils.to_categorical(y_test, num_classes=4)\n",
        "valid_yCl = tf.keras.utils.to_categorical(y_val, num_classes=4)"
      ],
      "metadata": {
        "id": "_E2vBJdRlSLB"
      },
      "execution_count": 24,
      "outputs": []
    },
    {
      "cell_type": "markdown",
      "source": [
        "# **DenseNet121**"
      ],
      "metadata": {
        "id": "I0btX7-Zp1Fq"
      }
    },
    {
      "cell_type": "code",
      "source": [
        "from tensorflow.keras.applications.densenet import DenseNet121, preprocess_input\n",
        "from tensorflow.keras.layers import GlobalMaxPooling2D, GlobalAveragePooling2D, Dense, Dropout, Flatten\n",
        "\n",
        "input_layer = tf.keras.Input((img_width,img_height,3))\n",
        "preprocessed_inputs = tf.keras.layers.Lambda( lambda x : preprocess_input(x))(input_layer)\n",
        "\n",
        "base_model = DenseNet121(\n",
        "    weights = \"imagenet\",\n",
        "    include_top = False,\n",
        "    input_tensor = preprocessed_inputs\n",
        ")\n",
        "\n",
        "k = GlobalAveragePooling2D()(base_model.output)\n",
        "k = Dense(4)(k)\n",
        "\n",
        "transfer_learning_model = tf.keras.Model(inputs = input_layer, outputs = k)\n",
        "\n",
        "from tensorflow import keras\n",
        "\n",
        "callback_list = [\n",
        "    keras.callbacks.ModelCheckpoint(\n",
        "        filepath='model.h5',\n",
        "        monitor = 'val_accuracy', save_best_only=True, verbose=3\n",
        "    ),\n",
        "    keras.callbacks.EarlyStopping(monitor='val_loss', patience=10, verbose=3)\n",
        "]\n",
        "\n",
        "reduce_lr = tf.keras.callbacks.ReduceLROnPlateau(\n",
        "    monitor = \"val_loss\",\n",
        "    factor = 0.1,\n",
        "    patience = 3,\n",
        "    mode = \"min\",\n",
        "    verbose = 1,\n",
        "    min_lr = 1e-8\n",
        ")\n",
        "\n",
        "callback_list.append(reduce_lr)\n",
        "\n",
        "transfer_learning_model.compile(loss=\"binary_crossentropy\", optimizer=\"adam\", metrics=['accuracy'])\n",
        "\n",
        "#Modelimizi eğitiyoruz.\n",
        "transfer_learning_model.fit(\n",
        "            x_train,\n",
        "            train_yCl,\n",
        "            epochs = 10,\n",
        "            batch_size = 64,\n",
        "            validation_data = (x_val, valid_yCl),\n",
        "            callbacks = callback_list\n",
        "            )"
      ],
      "metadata": {
        "colab": {
          "base_uri": "https://localhost:8080/"
        },
        "id": "JdgC0QwZleOL",
        "outputId": "172bb9db-1255-4340-b6a4-dbcd324d4187"
      },
      "execution_count": 25,
      "outputs": [
        {
          "output_type": "stream",
          "name": "stdout",
          "text": [
            "Epoch 1/10\n",
            "39/39 [==============================] - ETA: 0s - loss: 3.4411 - accuracy: 0.3285\n",
            "Epoch 1: val_accuracy improved from -inf to 0.26182, saving model to model.h5\n"
          ]
        },
        {
          "output_type": "stream",
          "name": "stderr",
          "text": [
            "/usr/local/lib/python3.10/dist-packages/keras/src/engine/training.py:3103: UserWarning: You are saving your model as an HDF5 file via `model.save()`. This file format is considered legacy. We recommend using instead the native Keras format, e.g. `model.save('my_model.keras')`.\n",
            "  saving_api.save_model(\n"
          ]
        },
        {
          "output_type": "stream",
          "name": "stdout",
          "text": [
            "\b\b\b\b\b\b\b\b\b\b\b\b\b\b\b\b\b\b\b\b\b\b\b\b\b\b\b\b\b\b\b\b\b\b\b\b\b\b\b\b\b\b\b\b\b\b\b\b\b\b\b\b\b\b\b\b\b\b\b\b\b\b\b\b\b\b\b\b\b\b\b\b\b\b\b\b\b\b\b\b\b\b\r39/39 [==============================] - 64s 212ms/step - loss: 3.4411 - accuracy: 0.3285 - val_loss: 7.4653 - val_accuracy: 0.2618 - lr: 0.0010\n",
            "Epoch 2/10\n",
            "39/39 [==============================] - ETA: 0s - loss: 2.4099 - accuracy: 0.3779\n",
            "Epoch 2: val_accuracy improved from 0.26182 to 0.28364, saving model to model.h5\n",
            "39/39 [==============================] - 5s 116ms/step - loss: 2.4099 - accuracy: 0.3779 - val_loss: 7.3155 - val_accuracy: 0.2836 - lr: 0.0010\n",
            "Epoch 3/10\n",
            "39/39 [==============================] - ETA: 0s - loss: 2.2460 - accuracy: 0.4254\n",
            "Epoch 3: val_accuracy improved from 0.28364 to 0.30182, saving model to model.h5\n",
            "39/39 [==============================] - 6s 143ms/step - loss: 2.2460 - accuracy: 0.4254 - val_loss: 5.5600 - val_accuracy: 0.3018 - lr: 0.0010\n",
            "Epoch 4/10\n",
            "39/39 [==============================] - ETA: 0s - loss: 2.2772 - accuracy: 0.4404\n",
            "Epoch 4: val_accuracy improved from 0.30182 to 0.39636, saving model to model.h5\n",
            "39/39 [==============================] - 5s 128ms/step - loss: 2.2772 - accuracy: 0.4404 - val_loss: 2.6041 - val_accuracy: 0.3964 - lr: 0.0010\n",
            "Epoch 5/10\n",
            "39/39 [==============================] - ETA: 0s - loss: 2.2121 - accuracy: 0.4497\n",
            "Epoch 5: val_accuracy improved from 0.39636 to 0.46545, saving model to model.h5\n",
            "39/39 [==============================] - 5s 119ms/step - loss: 2.2121 - accuracy: 0.4497 - val_loss: 2.1124 - val_accuracy: 0.4655 - lr: 0.0010\n",
            "Epoch 6/10\n",
            "39/39 [==============================] - ETA: 0s - loss: 2.1523 - accuracy: 0.4793\n",
            "Epoch 6: val_accuracy did not improve from 0.46545\n",
            "39/39 [==============================] - 4s 108ms/step - loss: 2.1523 - accuracy: 0.4793 - val_loss: 3.6888 - val_accuracy: 0.3745 - lr: 0.0010\n",
            "Epoch 7/10\n",
            "39/39 [==============================] - ETA: 0s - loss: 2.3150 - accuracy: 0.4440\n",
            "Epoch 7: val_accuracy did not improve from 0.46545\n",
            "39/39 [==============================] - 4s 97ms/step - loss: 2.3150 - accuracy: 0.4440 - val_loss: 4.7902 - val_accuracy: 0.2873 - lr: 0.0010\n",
            "Epoch 8/10\n",
            "39/39 [==============================] - ETA: 0s - loss: 2.2018 - accuracy: 0.4526\n",
            "Epoch 8: val_accuracy did not improve from 0.46545\n",
            "\n",
            "Epoch 8: ReduceLROnPlateau reducing learning rate to 0.00010000000474974513.\n",
            "39/39 [==============================] - 3s 83ms/step - loss: 2.2018 - accuracy: 0.4526 - val_loss: 3.2627 - val_accuracy: 0.2800 - lr: 0.0010\n",
            "Epoch 9/10\n",
            "39/39 [==============================] - ETA: 0s - loss: 2.1432 - accuracy: 0.4773\n",
            "Epoch 9: val_accuracy did not improve from 0.46545\n",
            "39/39 [==============================] - 3s 87ms/step - loss: 2.1432 - accuracy: 0.4773 - val_loss: 2.5584 - val_accuracy: 0.3491 - lr: 1.0000e-04\n",
            "Epoch 10/10\n",
            "39/39 [==============================] - ETA: 0s - loss: 2.1257 - accuracy: 0.4789\n",
            "Epoch 10: val_accuracy did not improve from 0.46545\n",
            "39/39 [==============================] - 4s 107ms/step - loss: 2.1257 - accuracy: 0.4789 - val_loss: 2.3318 - val_accuracy: 0.4182 - lr: 1.0000e-04\n"
          ]
        },
        {
          "output_type": "execute_result",
          "data": {
            "text/plain": [
              "<keras.src.callbacks.History at 0x7872c0e3f790>"
            ]
          },
          "metadata": {},
          "execution_count": 25
        }
      ]
    },
    {
      "cell_type": "markdown",
      "source": [
        "**Test verisi üzerinde DenseNet121 modelimizi değerlendirelim**"
      ],
      "metadata": {
        "id": "Sn8pel-dp7rk"
      }
    },
    {
      "cell_type": "code",
      "source": [
        "#Modelimizin Validation, Test ve Train Acurracy Skorlarını hesaplayalım.\n",
        "score_valid = transfer_learning_model.evaluate(x_val, valid_yCl)\n",
        "print(\"Validation Accuracy: \", score_valid[1])\n",
        "\n",
        "score_test = transfer_learning_model.evaluate(x_test, test_yCl)\n",
        "print(\"Validation Accuracy: \", score_test[1])\n",
        "\n",
        "score_train = transfer_learning_model.evaluate(x_train, train_yCl)\n",
        "print(\"Validation Accuracy: \", score_train[1])\n",
        "\n",
        "# Test verisi üzerinde tahminlerin yapılması\n",
        "y_pred = transfer_learning_model.predict(x_test)\n",
        "y_pred_classes = np.argmax(y_pred, axis=1)\n",
        "y_true = np.argmax(test_yCl, axis=1)\n",
        "\n",
        "# Accuracy\n",
        "accuracy = accuracy_score(y_true, y_pred_classes)\n",
        "print(f'Test Accuracy: {accuracy:.4f}')\n",
        "\n",
        "# Precision\n",
        "precision = precision_score(y_true, y_pred_classes, average='weighted')\n",
        "print(f'Precision: {precision:.4f}')\n",
        "\n",
        "# Recall\n",
        "recall = recall_score(y_true, y_pred_classes, average='weighted')\n",
        "print(f'Recall: {recall:.4f}')\n",
        "\n",
        "# F1 Score\n",
        "f1 = f1_score(y_true, y_pred_classes, average='weighted')\n",
        "print(f'F1 Score: {f1:.4f}')\n",
        "\n",
        "# Confusion Matrix\n",
        "conf_matrix = confusion_matrix(y_true, y_pred_classes)\n",
        "print('Confusion Matrix:')\n",
        "print(conf_matrix)\n",
        "\n",
        "# Classification Report\n",
        "class_report = classification_report(y_true, y_pred_classes, labels=np.unique(y_true))\n",
        "print('Classification Report:')\n",
        "print(class_report)"
      ],
      "metadata": {
        "colab": {
          "base_uri": "https://localhost:8080/"
        },
        "id": "K7N0dhYumGDf",
        "outputId": "1178bc0d-c8b8-453c-cf9d-8193af3911e5"
      },
      "execution_count": 26,
      "outputs": [
        {
          "output_type": "stream",
          "name": "stdout",
          "text": [
            "9/9 [==============================] - 0s 22ms/step - loss: 2.3318 - accuracy: 0.4182\n",
            "Validation Accuracy:  0.41818180680274963\n",
            "47/47 [==============================] - 1s 16ms/step - loss: 2.3170 - accuracy: 0.4153\n",
            "Validation Accuracy:  0.41531166434288025\n",
            "78/78 [==============================] - 1s 13ms/step - loss: 2.3034 - accuracy: 0.4347\n",
            "Validation Accuracy:  0.43471208214759827\n",
            "47/47 [==============================] - 2s 14ms/step\n",
            "Test Accuracy: 0.4153\n",
            "Precision: 0.2683\n",
            "Recall: 0.4153\n",
            "F1 Score: 0.3022\n",
            "Confusion Matrix:\n",
            "[[  0  52 322   0]\n",
            " [  0 284 111   0]\n",
            " [  0  16 329   0]\n",
            " [  0  32 330   0]]\n",
            "Classification Report:\n",
            "              precision    recall  f1-score   support\n",
            "\n",
            "           0       0.00      0.00      0.00       374\n",
            "           1       0.74      0.72      0.73       395\n",
            "           2       0.30      0.95      0.46       345\n",
            "           3       0.00      0.00      0.00       362\n",
            "\n",
            "    accuracy                           0.42      1476\n",
            "   macro avg       0.26      0.42      0.30      1476\n",
            "weighted avg       0.27      0.42      0.30      1476\n",
            "\n"
          ]
        },
        {
          "output_type": "stream",
          "name": "stderr",
          "text": [
            "/usr/local/lib/python3.10/dist-packages/sklearn/metrics/_classification.py:1344: UndefinedMetricWarning: Precision is ill-defined and being set to 0.0 in labels with no predicted samples. Use `zero_division` parameter to control this behavior.\n",
            "  _warn_prf(average, modifier, msg_start, len(result))\n",
            "/usr/local/lib/python3.10/dist-packages/sklearn/metrics/_classification.py:1344: UndefinedMetricWarning: Precision and F-score are ill-defined and being set to 0.0 in labels with no predicted samples. Use `zero_division` parameter to control this behavior.\n",
            "  _warn_prf(average, modifier, msg_start, len(result))\n",
            "/usr/local/lib/python3.10/dist-packages/sklearn/metrics/_classification.py:1344: UndefinedMetricWarning: Precision and F-score are ill-defined and being set to 0.0 in labels with no predicted samples. Use `zero_division` parameter to control this behavior.\n",
            "  _warn_prf(average, modifier, msg_start, len(result))\n",
            "/usr/local/lib/python3.10/dist-packages/sklearn/metrics/_classification.py:1344: UndefinedMetricWarning: Precision and F-score are ill-defined and being set to 0.0 in labels with no predicted samples. Use `zero_division` parameter to control this behavior.\n",
            "  _warn_prf(average, modifier, msg_start, len(result))\n"
          ]
        }
      ]
    },
    {
      "cell_type": "code",
      "source": [
        "\n",
        "from sklearn.metrics import confusion_matrix\n",
        "import seaborn as sns\n",
        "import matplotlib.pyplot as plt\n",
        "\n",
        "cm = confusion_matrix(y_true, y_pred_classes)\n",
        "sns.heatmap(cm, annot=True, fmt=\"d\", cmap=\"Blues\", xticklabels=[\"Normal\",\"Glaucoma\",\"Diabetic Retinopathy\",\"Cataract\"], yticklabels=[\"Normal\",\"Glaucoma\",\"Diabetic Retinopathy\",\"Cataract\"])\n",
        "plt.title(\"Confusion Matrix\")\n",
        "plt.xlabel(\"Predicted\")\n",
        "plt.ylabel(\"True\")\n",
        "plt.show()"
      ],
      "metadata": {
        "colab": {
          "base_uri": "https://localhost:8080/",
          "height": 604
        },
        "id": "Ni5Dxl3emzJD",
        "outputId": "6225a113-708e-4474-e18e-e129cdfb699c"
      },
      "execution_count": 27,
      "outputs": [
        {
          "output_type": "display_data",
          "data": {
            "text/plain": [
              "<Figure size 640x480 with 2 Axes>"
            ],
            "image/png": "[encoded data removed]"
          },
          "metadata": {}
        }
      ]
    },
    {
      "cell_type": "markdown",
      "source": [
        "# **EfficientNetB0**"
      ],
      "metadata": {
        "id": "cEYuZlnBpXRB"
      }
    },
    {
      "cell_type": "code",
      "source": [
        "from tensorflow.keras.applications import EfficientNetB0\n",
        "\n",
        "base_model = EfficientNetB0(\n",
        "    weights='imagenet',\n",
        "    include_top=False,\n",
        "    input_shape=(img_width, img_height, 3)\n",
        ")\n",
        "\n",
        "k = GlobalMaxPooling2D()(base_model.output)\n",
        "k = Dense(4)(k)\n",
        "\n",
        "transfer_learning_model_efficientnet = tf.keras.Model(inputs=base_model.input, outputs=k)\n",
        "\n",
        "transfer_learning_model_efficientnet.compile(loss='categorical_crossentropy', optimizer='adam', metrics=['accuracy'])\n",
        "\n",
        "callback_list_efficientnet = [\n",
        "    keras.callbacks.ModelCheckpoint(\n",
        "        filepath='model_efficientnet.h5',\n",
        "        monitor='val_accuracy',\n",
        "        save_best_only=True,\n",
        "        verbose=3\n",
        "    ),\n",
        "    keras.callbacks.EarlyStopping(monitor='val_loss', patience=10, verbose=3)\n",
        "]\n",
        "\n",
        "transfer_learning_model_efficientnet.fit(\n",
        "    x_train,\n",
        "    train_yCl,\n",
        "    epochs=10,\n",
        "    batch_size=64,\n",
        "    validation_data=(x_val, valid_yCl),\n",
        "    callbacks=callback_list_efficientnet\n",
        ")"
      ],
      "metadata": {
        "colab": {
          "base_uri": "https://localhost:8080/"
        },
        "id": "Klt7JecfoKbc",
        "outputId": "bb265f90-4a37-4ca4-ddaa-4512b8e510e2"
      },
      "execution_count": 28,
      "outputs": [
        {
          "output_type": "stream",
          "name": "stdout",
          "text": [
            "Epoch 1/10\n",
            "38/39 [============================>.] - ETA: 0s - loss: 5.4952 - accuracy: 0.2627\n",
            "Epoch 1: val_accuracy improved from -inf to 0.23636, saving model to model_efficientnet.h5\n"
          ]
        },
        {
          "output_type": "stream",
          "name": "stderr",
          "text": [
            "/usr/local/lib/python3.10/dist-packages/keras/src/engine/training.py:3103: UserWarning: You are saving your model as an HDF5 file via `model.save()`. This file format is considered legacy. We recommend using instead the native Keras format, e.g. `model.save('my_model.keras')`.\n",
            "  saving_api.save_model(\n"
          ]
        },
        {
          "output_type": "stream",
          "name": "stdout",
          "text": [
            "\b\b\b\b\b\b\b\b\b\b\b\b\b\b\b\b\b\b\b\b\b\b\b\b\b\b\b\b\b\b\b\b\b\b\b\b\b\b\b\b\b\b\b\b\b\b\b\b\b\b\b\b\b\b\b\b\b\b\b\b\b\b\b\b\b\b\b\b\b\b\b\b\b\b\b\b\b\b\b\b\b\b\r39/39 [==============================] - 37s 112ms/step - loss: 5.4498 - accuracy: 0.2624 - val_loss: 7.4411 - val_accuracy: 0.2364\n",
            "Epoch 2/10\n",
            "39/39 [==============================] - ETA: 0s - loss: 4.0054 - accuracy: 0.3159\n",
            "Epoch 2: val_accuracy improved from 0.23636 to 0.34545, saving model to model_efficientnet.h5\n",
            "39/39 [==============================] - 4s 98ms/step - loss: 4.0054 - accuracy: 0.3159 - val_loss: 5.6702 - val_accuracy: 0.3455\n",
            "Epoch 3/10\n",
            "39/39 [==============================] - ETA: 0s - loss: 3.1050 - accuracy: 0.2737\n",
            "Epoch 3: val_accuracy did not improve from 0.34545\n",
            "39/39 [==============================] - 3s 64ms/step - loss: 3.1050 - accuracy: 0.2737 - val_loss: 4.7287 - val_accuracy: 0.2473\n",
            "Epoch 4/10\n",
            "39/39 [==============================] - ETA: 0s - loss: 2.9872 - accuracy: 0.2498\n",
            "Epoch 4: val_accuracy did not improve from 0.34545\n",
            "39/39 [==============================] - 2s 58ms/step - loss: 2.9872 - accuracy: 0.2498 - val_loss: 3.1752 - val_accuracy: 0.2036\n",
            "Epoch 5/10\n",
            "38/39 [============================>.] - ETA: 0s - loss: 2.9802 - accuracy: 0.2434\n",
            "Epoch 5: val_accuracy did not improve from 0.34545\n",
            "39/39 [==============================] - 2s 55ms/step - loss: 3.0008 - accuracy: 0.2445 - val_loss: 2.9504 - val_accuracy: 0.2145\n",
            "Epoch 6/10\n",
            "38/39 [============================>.] - ETA: 0s - loss: 3.4737 - accuracy: 0.2101\n",
            "Epoch 6: val_accuracy did not improve from 0.34545\n",
            "39/39 [==============================] - 2s 56ms/step - loss: 3.4734 - accuracy: 0.2092 - val_loss: 5.2218 - val_accuracy: 0.1418\n",
            "Epoch 7/10\n",
            "39/39 [==============================] - ETA: 0s - loss: 3.3924 - accuracy: 0.2036\n",
            "Epoch 7: val_accuracy did not improve from 0.34545\n",
            "39/39 [==============================] - 2s 55ms/step - loss: 3.3924 - accuracy: 0.2036 - val_loss: 4.0549 - val_accuracy: 0.2364\n",
            "Epoch 8/10\n",
            "39/39 [==============================] - ETA: 0s - loss: 2.8707 - accuracy: 0.2672\n",
            "Epoch 8: val_accuracy did not improve from 0.34545\n",
            "39/39 [==============================] - 3s 75ms/step - loss: 2.8707 - accuracy: 0.2672 - val_loss: 1.8730 - val_accuracy: 0.2727\n",
            "Epoch 9/10\n",
            "39/39 [==============================] - ETA: 0s - loss: 2.4158 - accuracy: 0.2851\n",
            "Epoch 9: val_accuracy did not improve from 0.34545\n",
            "39/39 [==============================] - 5s 119ms/step - loss: 2.4158 - accuracy: 0.2851 - val_loss: 4.2278 - val_accuracy: 0.2982\n",
            "Epoch 10/10\n",
            "39/39 [==============================] - ETA: 0s - loss: 2.6672 - accuracy: 0.3358\n",
            "Epoch 10: val_accuracy improved from 0.34545 to 0.40000, saving model to model_efficientnet.h5\n",
            "39/39 [==============================] - 3s 73ms/step - loss: 2.6672 - accuracy: 0.3358 - val_loss: 4.4043 - val_accuracy: 0.4000\n"
          ]
        },
        {
          "output_type": "execute_result",
          "data": {
            "text/plain": [
              "<keras.src.callbacks.History at 0x7871d865a200>"
            ]
          },
          "metadata": {},
          "execution_count": 28
        }
      ]
    },
    {
      "cell_type": "markdown",
      "source": [
        "**Test verisi üzerinde EfficientNetB0 modelimizi değerlendirelim**"
      ],
      "metadata": {
        "id": "-Dph5N97qHyX"
      }
    },
    {
      "cell_type": "code",
      "source": [
        "score_valid = transfer_learning_model.evaluate(x_val, valid_yCl)\n",
        "print(\"Validation Accuracy: \", score_valid[1])\n",
        "\n",
        "score_test = transfer_learning_model.evaluate(x_test, test_yCl)\n",
        "print(\"Validation Accuracy: \", score_test[1])\n",
        "\n",
        "score_train = transfer_learning_model.evaluate(x_train, train_yCl)\n",
        "print(\"Validation Accuracy: \", score_train[1])\n",
        "\n",
        "# Test verisi üzerinde tahminlerin yapılması\n",
        "y_pred = transfer_learning_model.predict(x_test)\n",
        "y_pred_classes = np.argmax(y_pred, axis=1)\n",
        "y_true = np.argmax(test_yCl, axis=1)\n",
        "\n",
        "# Accuracy\n",
        "accuracy = accuracy_score(y_true, y_pred_classes)\n",
        "print(f'Test Accuracy: {accuracy:.4f}')\n",
        "\n",
        "# Precision\n",
        "precision = precision_score(y_true, y_pred_classes, average='weighted')\n",
        "print(f'Precision: {precision:.4f}')\n",
        "\n",
        "# Recall\n",
        "recall = recall_score(y_true, y_pred_classes, average='weighted')\n",
        "print(f'Recall: {recall:.4f}')\n",
        "\n",
        "# F1 Score\n",
        "f1 = f1_score(y_true, y_pred_classes, average='weighted')\n",
        "print(f'F1 Score: {f1:.4f}')\n",
        "\n",
        "# Confusion Matrix\n",
        "conf_matrix = confusion_matrix(y_true, y_pred_classes)\n",
        "print('Confusion Matrix:')\n",
        "print(conf_matrix)\n",
        "\n",
        "# Classification Report\n",
        "class_report = classification_report(y_true, y_pred_classes, labels=np.unique(y_true))\n",
        "print('Classification Report:')\n",
        "print(class_report)"
      ],
      "metadata": {
        "colab": {
          "base_uri": "https://localhost:8080/"
        },
        "id": "TaNLuJJ5oS-V",
        "outputId": "4e36e572-8522-48a1-8147-87adeceb2acf"
      },
      "execution_count": 29,
      "outputs": [
        {
          "output_type": "stream",
          "name": "stdout",
          "text": [
            "9/9 [==============================] - 0s 23ms/step - loss: 2.3318 - accuracy: 0.4182\n",
            "Validation Accuracy:  0.41818180680274963\n",
            "47/47 [==============================] - 1s 15ms/step - loss: 2.3170 - accuracy: 0.4153\n",
            "Validation Accuracy:  0.41531166434288025\n",
            "78/78 [==============================] - 1s 13ms/step - loss: 2.3034 - accuracy: 0.4347\n",
            "Validation Accuracy:  0.43471208214759827\n",
            "47/47 [==============================] - 1s 12ms/step\n",
            "Test Accuracy: 0.4153\n",
            "Precision: 0.2683\n",
            "Recall: 0.4153\n",
            "F1 Score: 0.3022\n",
            "Confusion Matrix:\n",
            "[[  0  52 322   0]\n",
            " [  0 284 111   0]\n",
            " [  0  16 329   0]\n",
            " [  0  32 330   0]]\n",
            "Classification Report:\n",
            "              precision    recall  f1-score   support\n",
            "\n",
            "           0       0.00      0.00      0.00       374\n",
            "           1       0.74      0.72      0.73       395\n",
            "           2       0.30      0.95      0.46       345\n",
            "           3       0.00      0.00      0.00       362\n",
            "\n",
            "    accuracy                           0.42      1476\n",
            "   macro avg       0.26      0.42      0.30      1476\n",
            "weighted avg       0.27      0.42      0.30      1476\n",
            "\n"
          ]
        },
        {
          "output_type": "stream",
          "name": "stderr",
          "text": [
            "/usr/local/lib/python3.10/dist-packages/sklearn/metrics/_classification.py:1344: UndefinedMetricWarning: Precision is ill-defined and being set to 0.0 in labels with no predicted samples. Use `zero_division` parameter to control this behavior.\n",
            "  _warn_prf(average, modifier, msg_start, len(result))\n",
            "/usr/local/lib/python3.10/dist-packages/sklearn/metrics/_classification.py:1344: UndefinedMetricWarning: Precision and F-score are ill-defined and being set to 0.0 in labels with no predicted samples. Use `zero_division` parameter to control this behavior.\n",
            "  _warn_prf(average, modifier, msg_start, len(result))\n",
            "/usr/local/lib/python3.10/dist-packages/sklearn/metrics/_classification.py:1344: UndefinedMetricWarning: Precision and F-score are ill-defined and being set to 0.0 in labels with no predicted samples. Use `zero_division` parameter to control this behavior.\n",
            "  _warn_prf(average, modifier, msg_start, len(result))\n",
            "/usr/local/lib/python3.10/dist-packages/sklearn/metrics/_classification.py:1344: UndefinedMetricWarning: Precision and F-score are ill-defined and being set to 0.0 in labels with no predicted samples. Use `zero_division` parameter to control this behavior.\n",
            "  _warn_prf(average, modifier, msg_start, len(result))\n"
          ]
        }
      ]
    },
    {
      "cell_type": "code",
      "source": [
        "from sklearn.metrics import confusion_matrix\n",
        "import seaborn as sns\n",
        "import matplotlib.pyplot as plt\n",
        "\n",
        "cm = confusion_matrix(y_true, y_pred_classes)\n",
        "sns.heatmap(cm, annot=True, fmt=\"d\", cmap=\"Blues\", xticklabels=[\"Normal\",\"Glaucoma\",\"Diabetic Retinopathy\",\"Cataract\"], yticklabels=[\"Normal\",\"Glaucoma\",\"Diabetic Retinopathy\",\"Cataract\"])\n",
        "plt.title(\"Confusion Matrix\")\n",
        "plt.xlabel(\"Predicted\")\n",
        "plt.ylabel(\"True\")\n",
        "plt.show()"
      ],
      "metadata": {
        "colab": {
          "base_uri": "https://localhost:8080/",
          "height": 604
        },
        "id": "UJib1hVVoWbH",
        "outputId": "9f0c67cc-912b-4ca0-8b37-43e70a1ef27d"
      },
      "execution_count": 30,
      "outputs": [
        {
          "output_type": "display_data",
          "data": {
            "text/plain": [
              "<Figure size 640x480 with 2 Axes>"
            ],
            "image/png": "[encoded data removed]"
          },
          "metadata": {}
        }
      ]
    }
  ]
}