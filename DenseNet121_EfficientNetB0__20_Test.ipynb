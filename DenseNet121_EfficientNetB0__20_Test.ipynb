{
  "nbformat": 4,
  "nbformat_minor": 0,
  "metadata": {
    "colab": {
      "provenance": [],
      "gpuType": "T4",
      "authorship_tag": "ABX9TyNwszKBAeFeAuqR+AeoeIR1"
    },
    "kernelspec": {
      "name": "python3",
      "display_name": "Python 3"
    },
    "language_info": {
      "name": "python"
    },
    "accelerator": "GPU"
  },
  "cells": [
    {
      "cell_type": "code",
      "execution_count": 1,
      "metadata": {
        "colab": {
          "base_uri": "https://localhost:8080/"
        },
        "id": "NvaeycWDtfy0",
        "outputId": "cba35868-ea18-44b8-96e4-8f2bfd87e0d7"
      },
      "outputs": [
        {
          "output_type": "stream",
          "name": "stdout",
          "text": [
            "Mounted at /gdrive\n"
          ]
        }
      ],
      "source": [
        "from google.colab import drive\n",
        "drive.mount('/gdrive')"
      ]
    },
    {
      "cell_type": "code",
      "source": [
        "import os\n",
        "import numpy as np\n",
        "import cv2\n",
        "from sklearn.model_selection import train_test_split\n",
        "from sklearn.metrics import accuracy_score, precision_score, recall_score, f1_score, confusion_matrix, classification_report\n",
        "import tensorflow as tf\n",
        "from tensorflow.keras import layers, models\n",
        "import pandas as pd\n",
        "import matplotlib.pyplot as plt\n",
        "import seaborn as sns\n",
        "import glob"
      ],
      "metadata": {
        "id": "-PCmHMphtxd1"
      },
      "execution_count": 2,
      "outputs": []
    },
    {
      "cell_type": "code",
      "source": [
        "#import os\n",
        "print(os.listdir(\"/gdrive/My Drive/Retinal Imaging/Eyes\"))\n",
        "\n",
        "data_dir = '/gdrive/My Drive/Retinal Imaging/Eyes'\n",
        "\n",
        "img_height, img_width = 50, 50\n",
        "data_path = \"/gdrive/My Drive/Retinal Imaging/Eyes\"\n",
        "Normal_path = os.path.join(data_path, \"Normal\")\n",
        "Diabetic_Retinopathy_path = os.path.join(data_path, \"Diabetic Retinopathy\")\n",
        "Glaucoma_path = os.path.join(data_path, \"Glaucoma\")\n",
        "Cataract_path = os.path.join(data_path, \"Cataract\")"
      ],
      "metadata": {
        "colab": {
          "base_uri": "https://localhost:8080/"
        },
        "id": "9EFRNfDUt5yv",
        "outputId": "e87b8d2b-f9c4-47ac-b666-5b03a54ae0f4"
      },
      "execution_count": 3,
      "outputs": [
        {
          "output_type": "stream",
          "name": "stdout",
          "text": [
            "['Normal', 'Diabetic Retinopathy', 'Glaucoma', 'Cataract']\n"
          ]
        }
      ]
    },
    {
      "cell_type": "code",
      "source": [
        "def load_images(folder_path, label):\n",
        "    images = []\n",
        "    labels = []\n",
        "    for filename in os.listdir(folder_path):\n",
        "        img_path = os.path.join(folder_path, filename)\n",
        "        img = cv2.imread(img_path)\n",
        "        if img is None:\n",
        "            print(f\"Error: Unable to read image {img_path}\")\n",
        "            continue\n",
        "        img = cv2.resize(img, (img_height, img_width))\n",
        "        images.append(img)\n",
        "        labels.append(label)\n",
        "    return np.array(images), np.array(labels)\n",
        "\n",
        "Normal_images, Normal_labels = load_images(Normal_path, 0)\n",
        "Diabetic_Retinopathy_images, Diabetic_Retinopathy_labels = load_images(Diabetic_Retinopathy_path, 1)\n",
        "Glaucoma_images, Glaucoma_labels = load_images(Glaucoma_path, 2)\n",
        "Cataract_images, Cataract_labels = load_images(Cataract_path, 3)\n",
        "\n",
        "x = np.concatenate((Normal_images, Diabetic_Retinopathy_images, Glaucoma_images, Cataract_images), axis=0)\n",
        "y = np.concatenate((Normal_labels, Diabetic_Retinopathy_labels, Glaucoma_labels, Cataract_labels), axis=0)"
      ],
      "metadata": {
        "id": "EKUsVq__uK0k"
      },
      "execution_count": 4,
      "outputs": []
    },
    {
      "cell_type": "markdown",
      "source": [
        "**%20 ayırma**"
      ],
      "metadata": {
        "id": "xcwK4u1Nuvvb"
      }
    },
    {
      "cell_type": "code",
      "source": [
        "# Veri setini ayırma\n",
        "x_train, x_test, y_train, y_test = train_test_split(x, y, test_size=0.20, random_state =42)\n",
        "\n",
        "x_train, x_val, y_train, y_val = train_test_split(x_train, y_train, test_size=0.10, random_state=42)"
      ],
      "metadata": {
        "id": "C1sAcjfOuu7P"
      },
      "execution_count": 5,
      "outputs": []
    },
    {
      "cell_type": "code",
      "source": [
        "x_train = np.array(x_train)\n",
        "x_test = np.array(x_test)\n",
        "\n",
        "y_train = np.array(y_train)\n",
        "y_test = np.array(y_test)\n",
        "\n",
        "x_val = np.array(x_val)\n",
        "y_val = np.array(y_val)"
      ],
      "metadata": {
        "id": "WXLBA_sgvDFl"
      },
      "execution_count": 6,
      "outputs": []
    },
    {
      "cell_type": "code",
      "source": [
        "import tensorflow as tf\n",
        "\n",
        "train_yCl = tf.keras.utils.to_categorical(y_train, num_classes=4)\n",
        "test_yCl = tf.keras.utils.to_categorical(y_test, num_classes=4)\n",
        "valid_yCl = tf.keras.utils.to_categorical(y_val, num_classes=4)"
      ],
      "metadata": {
        "id": "4A5KuvZFvEZk"
      },
      "execution_count": 7,
      "outputs": []
    },
    {
      "cell_type": "markdown",
      "source": [
        "# **DenseNet121**"
      ],
      "metadata": {
        "id": "Ok7dyL88vV3Q"
      }
    },
    {
      "cell_type": "code",
      "source": [
        "from tensorflow.keras.applications.densenet import DenseNet121, preprocess_input\n",
        "from tensorflow.keras.layers import GlobalMaxPooling2D, GlobalAveragePooling2D, Dense, Dropout, Flatten\n",
        "\n",
        "input_layer = tf.keras.Input((img_width,img_height,3))\n",
        "preprocessed_inputs = tf.keras.layers.Lambda( lambda x : preprocess_input(x))(input_layer)\n",
        "\n",
        "base_model = DenseNet121(\n",
        "    weights = \"imagenet\",\n",
        "    include_top = False,\n",
        "    input_tensor = preprocessed_inputs\n",
        ")\n",
        "\n",
        "k = GlobalAveragePooling2D()(base_model.output)\n",
        "k = Dense(4)(k)\n",
        "\n",
        "transfer_learning_model = tf.keras.Model(inputs = input_layer, outputs = k)\n",
        "\n",
        "from tensorflow import keras\n",
        "\n",
        "callback_list = [\n",
        "    keras.callbacks.ModelCheckpoint(\n",
        "        filepath='model.h5',\n",
        "        monitor = 'val_accuracy', save_best_only=True, verbose=3\n",
        "    ),\n",
        "    keras.callbacks.EarlyStopping(monitor='val_loss', patience=10, verbose=3)\n",
        "]\n",
        "\n",
        "reduce_lr = tf.keras.callbacks.ReduceLROnPlateau(\n",
        "    monitor = \"val_loss\",\n",
        "    factor = 0.1,\n",
        "    patience = 3,\n",
        "    mode = \"min\",\n",
        "    verbose = 1,\n",
        "    min_lr = 1e-8\n",
        ")\n",
        "\n",
        "callback_list.append(reduce_lr)\n",
        "\n",
        "transfer_learning_model.compile(loss=\"binary_crossentropy\", optimizer=\"adam\", metrics=['accuracy'])\n",
        "\n",
        "#Modelimizi eğitiyoruz.\n",
        "transfer_learning_model.fit(\n",
        "            x_train,\n",
        "            train_yCl,\n",
        "            epochs = 10,\n",
        "            batch_size = 64,\n",
        "            validation_data = (x_val, valid_yCl),\n",
        "            callbacks = callback_list\n",
        "            )"
      ],
      "metadata": {
        "colab": {
          "base_uri": "https://localhost:8080/"
        },
        "id": "rnvlN3KSvYQB",
        "outputId": "1351ff9c-b81c-4478-ac8c-24ca17492a80"
      },
      "execution_count": 8,
      "outputs": [
        {
          "output_type": "stream",
          "name": "stdout",
          "text": [
            "Downloading data from https://storage.googleapis.com/tensorflow/keras-applications/densenet/densenet121_weights_tf_dim_ordering_tf_kernels_notop.h5\n",
            "29084464/29084464 [==============================] - 2s 0us/step\n",
            "Epoch 1/10\n",
            "48/48 [==============================] - ETA: 0s - loss: 3.6023 - accuracy: 0.3914\n",
            "Epoch 1: val_accuracy improved from -inf to 0.23669, saving model to model.h5\n"
          ]
        },
        {
          "output_type": "stream",
          "name": "stderr",
          "text": [
            "/usr/local/lib/python3.10/dist-packages/keras/src/engine/training.py:3103: UserWarning: You are saving your model as an HDF5 file via `model.save()`. This file format is considered legacy. We recommend using instead the native Keras format, e.g. `model.save('my_model.keras')`.\n",
            "  saving_api.save_model(\n"
          ]
        },
        {
          "output_type": "stream",
          "name": "stdout",
          "text": [
            "\b\b\b\b\b\b\b\b\b\b\b\b\b\b\b\b\b\b\b\b\b\b\b\b\b\b\b\b\b\b\b\b\b\b\b\b\b\b\b\b\b\b\b\b\b\b\b\b\b\b\b\b\b\b\b\b\b\b\b\b\b\b\b\b\b\b\b\b\b\b\b\b\b\b\b\b\b\b\b\b\b\b\r48/48 [==============================] - 117s 342ms/step - loss: 3.6023 - accuracy: 0.3914 - val_loss: 5.7677 - val_accuracy: 0.2367 - lr: 0.0010\n",
            "Epoch 2/10\n",
            "48/48 [==============================] - ETA: 0s - loss: 3.2063 - accuracy: 0.3842\n",
            "Epoch 2: val_accuracy did not improve from 0.23669\n",
            "48/48 [==============================] - 7s 155ms/step - loss: 3.2063 - accuracy: 0.3842 - val_loss: 4.9793 - val_accuracy: 0.2101 - lr: 0.0010\n",
            "Epoch 3/10\n",
            "48/48 [==============================] - ETA: 0s - loss: 3.2051 - accuracy: 0.3980\n",
            "Epoch 3: val_accuracy improved from 0.23669 to 0.32840, saving model to model.h5\n",
            "48/48 [==============================] - 9s 185ms/step - loss: 3.2051 - accuracy: 0.3980 - val_loss: 5.8199 - val_accuracy: 0.3284 - lr: 0.0010\n",
            "Epoch 4/10\n",
            "48/48 [==============================] - ETA: 0s - loss: 3.4193 - accuracy: 0.4181\n",
            "Epoch 4: val_accuracy did not improve from 0.32840\n",
            "48/48 [==============================] - 4s 85ms/step - loss: 3.4193 - accuracy: 0.4181 - val_loss: 3.6623 - val_accuracy: 0.2959 - lr: 0.0010\n",
            "Epoch 5/10\n",
            "48/48 [==============================] - ETA: 0s - loss: 3.5110 - accuracy: 0.3786\n",
            "Epoch 5: val_accuracy improved from 0.32840 to 0.33432, saving model to model.h5\n",
            "48/48 [==============================] - 7s 140ms/step - loss: 3.5110 - accuracy: 0.3786 - val_loss: 3.4833 - val_accuracy: 0.3343 - lr: 0.0010\n",
            "Epoch 6/10\n",
            "48/48 [==============================] - ETA: 0s - loss: 3.3954 - accuracy: 0.4204\n",
            "Epoch 6: val_accuracy improved from 0.33432 to 0.39053, saving model to model.h5\n",
            "48/48 [==============================] - 5s 113ms/step - loss: 3.3954 - accuracy: 0.4204 - val_loss: 3.3198 - val_accuracy: 0.3905 - lr: 0.0010\n",
            "Epoch 7/10\n",
            "48/48 [==============================] - ETA: 0s - loss: 3.3485 - accuracy: 0.4428\n",
            "Epoch 7: val_accuracy improved from 0.39053 to 0.41716, saving model to model.h5\n",
            "48/48 [==============================] - 6s 118ms/step - loss: 3.3485 - accuracy: 0.4428 - val_loss: 3.2281 - val_accuracy: 0.4172 - lr: 0.0010\n",
            "Epoch 8/10\n",
            "48/48 [==============================] - ETA: 0s - loss: 3.4248 - accuracy: 0.4326\n",
            "Epoch 8: val_accuracy did not improve from 0.41716\n",
            "48/48 [==============================] - 5s 103ms/step - loss: 3.4248 - accuracy: 0.4326 - val_loss: 3.6233 - val_accuracy: 0.3817 - lr: 0.0010\n",
            "Epoch 9/10\n",
            "48/48 [==============================] - ETA: 0s - loss: 3.4071 - accuracy: 0.4030\n",
            "Epoch 9: val_accuracy did not improve from 0.41716\n",
            "48/48 [==============================] - 4s 87ms/step - loss: 3.4071 - accuracy: 0.4030 - val_loss: 3.6753 - val_accuracy: 0.3964 - lr: 0.0010\n",
            "Epoch 10/10\n",
            "48/48 [==============================] - ETA: 0s - loss: 3.3617 - accuracy: 0.4161\n",
            "Epoch 10: val_accuracy did not improve from 0.41716\n",
            "\n",
            "Epoch 10: ReduceLROnPlateau reducing learning rate to 0.00010000000474974513.\n",
            "48/48 [==============================] - 4s 86ms/step - loss: 3.3617 - accuracy: 0.4161 - val_loss: 3.2832 - val_accuracy: 0.4112 - lr: 0.0010\n"
          ]
        },
        {
          "output_type": "execute_result",
          "data": {
            "text/plain": [
              "<keras.src.callbacks.History at 0x7c980c4e4f10>"
            ]
          },
          "metadata": {},
          "execution_count": 8
        }
      ]
    },
    {
      "cell_type": "markdown",
      "source": [
        "**Test verisi üzerinde DenseNet121 modelimizi değerlendirelim**"
      ],
      "metadata": {
        "id": "fSVq4x4zvfUW"
      }
    },
    {
      "cell_type": "code",
      "source": [
        "#Modelimizin Validation, Test ve Train Acurracy Skorlarını hesaplayalım.\n",
        "score_valid = transfer_learning_model.evaluate(x_val, valid_yCl)\n",
        "print(\"Validation Accuracy: \", score_valid[1])\n",
        "\n",
        "score_test = transfer_learning_model.evaluate(x_test, test_yCl)\n",
        "print(\"Validation Accuracy: \", score_test[1])\n",
        "\n",
        "score_train = transfer_learning_model.evaluate(x_train, train_yCl)\n",
        "print(\"Validation Accuracy: \", score_train[1])\n",
        "\n",
        "# Test verisi üzerinde tahminlerin yapılması\n",
        "y_pred = transfer_learning_model.predict(x_test)\n",
        "y_pred_classes = np.argmax(y_pred, axis=1)\n",
        "y_true = np.argmax(test_yCl, axis=1)\n",
        "\n",
        "# Accuracy\n",
        "accuracy = accuracy_score(y_true, y_pred_classes)\n",
        "print(f'Test Accuracy: {accuracy:.4f}')\n",
        "\n",
        "# Precision\n",
        "precision = precision_score(y_true, y_pred_classes, average='weighted')\n",
        "print(f'Precision: {precision:.4f}')\n",
        "\n",
        "# Recall\n",
        "recall = recall_score(y_true, y_pred_classes, average='weighted')\n",
        "print(f'Recall: {recall:.4f}')\n",
        "\n",
        "# F1 Score\n",
        "f1 = f1_score(y_true, y_pred_classes, average='weighted')\n",
        "print(f'F1 Score: {f1:.4f}')\n",
        "\n",
        "# Confusion Matrix\n",
        "conf_matrix = confusion_matrix(y_true, y_pred_classes)\n",
        "print('Confusion Matrix:')\n",
        "print(conf_matrix)\n",
        "\n",
        "# Classification Report\n",
        "class_report = classification_report(y_true, y_pred_classes, labels=np.unique(y_true))\n",
        "print('Classification Report:')\n",
        "print(class_report)"
      ],
      "metadata": {
        "colab": {
          "base_uri": "https://localhost:8080/"
        },
        "id": "G7LnmRr5vdb0",
        "outputId": "6b058635-72e6-4e8b-a0bf-1a50045780a2"
      },
      "execution_count": 9,
      "outputs": [
        {
          "output_type": "stream",
          "name": "stdout",
          "text": [
            "11/11 [==============================] - 2s 14ms/step - loss: 3.2832 - accuracy: 0.4112\n",
            "Validation Accuracy:  0.41124260425567627\n",
            "27/27 [==============================] - 2s 75ms/step - loss: 3.6211 - accuracy: 0.3507\n",
            "Validation Accuracy:  0.3507108986377716\n",
            "95/95 [==============================] - 2s 20ms/step - loss: 3.4469 - accuracy: 0.4053\n",
            "Validation Accuracy:  0.40527182817459106\n",
            "27/27 [==============================] - 2s 16ms/step\n",
            "Test Accuracy: 0.3507\n",
            "Precision: 0.3636\n",
            "Recall: 0.3507\n",
            "F1 Score: 0.2862\n",
            "Confusion Matrix:\n",
            "[[  0   0  28 217]\n",
            " [  0 103  16 101]\n",
            " [  0   0  14 169]\n",
            " [  0   0  17 179]]\n",
            "Classification Report:\n",
            "              precision    recall  f1-score   support\n",
            "\n",
            "           0       0.00      0.00      0.00       245\n",
            "           1       1.00      0.47      0.64       220\n",
            "           2       0.19      0.08      0.11       183\n",
            "           3       0.27      0.91      0.42       196\n",
            "\n",
            "    accuracy                           0.35       844\n",
            "   macro avg       0.36      0.36      0.29       844\n",
            "weighted avg       0.36      0.35      0.29       844\n",
            "\n"
          ]
        },
        {
          "output_type": "stream",
          "name": "stderr",
          "text": [
            "/usr/local/lib/python3.10/dist-packages/sklearn/metrics/_classification.py:1344: UndefinedMetricWarning: Precision is ill-defined and being set to 0.0 in labels with no predicted samples. Use `zero_division` parameter to control this behavior.\n",
            "  _warn_prf(average, modifier, msg_start, len(result))\n",
            "/usr/local/lib/python3.10/dist-packages/sklearn/metrics/_classification.py:1344: UndefinedMetricWarning: Precision and F-score are ill-defined and being set to 0.0 in labels with no predicted samples. Use `zero_division` parameter to control this behavior.\n",
            "  _warn_prf(average, modifier, msg_start, len(result))\n",
            "/usr/local/lib/python3.10/dist-packages/sklearn/metrics/_classification.py:1344: UndefinedMetricWarning: Precision and F-score are ill-defined and being set to 0.0 in labels with no predicted samples. Use `zero_division` parameter to control this behavior.\n",
            "  _warn_prf(average, modifier, msg_start, len(result))\n",
            "/usr/local/lib/python3.10/dist-packages/sklearn/metrics/_classification.py:1344: UndefinedMetricWarning: Precision and F-score are ill-defined and being set to 0.0 in labels with no predicted samples. Use `zero_division` parameter to control this behavior.\n",
            "  _warn_prf(average, modifier, msg_start, len(result))\n"
          ]
        }
      ]
    },
    {
      "cell_type": "code",
      "source": [
        "from sklearn.metrics import confusion_matrix\n",
        "import seaborn as sns\n",
        "import matplotlib.pyplot as plt\n",
        "\n",
        "cm = confusion_matrix(y_true, y_pred_classes)\n",
        "sns.heatmap(cm, annot=True, fmt=\"d\", cmap=\"Blues\", xticklabels=[\"Normal\",\"Diabetic Retinopathy\",\"Glaucoma\",\"Cataract\"], yticklabels=[\"Normal\",\"Diabetic Retinopathy\",\"Glaucoma\",\"Cataract\"])\n",
        "plt.title(\"Confusion Matrix\")\n",
        "plt.xlabel(\"Predicted\")\n",
        "plt.ylabel(\"True\")\n",
        "plt.show()"
      ],
      "metadata": {
        "colab": {
          "base_uri": "https://localhost:8080/",
          "height": 604
        },
        "id": "XVR7IMBivkgW",
        "outputId": "1e6aab45-f892-497d-a167-2536ed75e08f"
      },
      "execution_count": 14,
      "outputs": [
        {
          "output_type": "display_data",
          "data": {
            "text/plain": [
              "<Figure size 640x480 with 2 Axes>"
            ],
            "image/png": "[encoded data removed]"
          },
          "metadata": {}
        }
      ]
    },
    {
      "cell_type": "markdown",
      "source": [
        "# **EfficientNetB0**"
      ],
      "metadata": {
        "id": "mMwMIHtcvp2N"
      }
    },
    {
      "cell_type": "code",
      "source": [
        "from tensorflow.keras.applications import EfficientNetB0\n",
        "\n",
        "base_model = EfficientNetB0(\n",
        "    weights='imagenet',\n",
        "    include_top=False,\n",
        "    input_shape=(img_width, img_height, 3)\n",
        ")\n",
        "\n",
        "k = GlobalMaxPooling2D()(base_model.output)\n",
        "k = Dense(4)(k)\n",
        "\n",
        "transfer_learning_model_efficientnet = tf.keras.Model(inputs=base_model.input, outputs=k)\n",
        "\n",
        "transfer_learning_model_efficientnet.compile(loss='categorical_crossentropy', optimizer='adam', metrics=['accuracy'])\n",
        "\n",
        "callback_list_efficientnet = [\n",
        "    keras.callbacks.ModelCheckpoint(\n",
        "        filepath='model_efficientnet.h5',\n",
        "        monitor='val_accuracy',\n",
        "        save_best_only=True,\n",
        "        verbose=3\n",
        "    ),\n",
        "    keras.callbacks.EarlyStopping(monitor='val_loss', patience=10, verbose=3)\n",
        "]\n",
        "\n",
        "transfer_learning_model_efficientnet.fit(\n",
        "    x_train,\n",
        "    train_yCl,\n",
        "    epochs=10,\n",
        "    batch_size=64,\n",
        "    validation_data=(x_val, valid_yCl),\n",
        "    callbacks=callback_list_efficientnet\n",
        ")"
      ],
      "metadata": {
        "colab": {
          "base_uri": "https://localhost:8080/"
        },
        "id": "J2YwFCB7vrEF",
        "outputId": "22dfe9bc-b19b-484c-88a9-1e277e704eab"
      },
      "execution_count": 11,
      "outputs": [
        {
          "output_type": "stream",
          "name": "stdout",
          "text": [
            "Downloading data from https://storage.googleapis.com/keras-applications/efficientnetb0_notop.h5\n",
            "16705208/16705208 [==============================] - 1s 0us/step\n",
            "Epoch 1/10\n",
            "48/48 [==============================] - ETA: 0s - loss: 4.4803 - accuracy: 0.2893\n",
            "Epoch 1: val_accuracy improved from -inf to 0.28402, saving model to model_efficientnet.h5\n"
          ]
        },
        {
          "output_type": "stream",
          "name": "stderr",
          "text": [
            "/usr/local/lib/python3.10/dist-packages/keras/src/engine/training.py:3103: UserWarning: You are saving your model as an HDF5 file via `model.save()`. This file format is considered legacy. We recommend using instead the native Keras format, e.g. `model.save('my_model.keras')`.\n",
            "  saving_api.save_model(\n"
          ]
        },
        {
          "output_type": "stream",
          "name": "stdout",
          "text": [
            "\b\b\b\b\b\b\b\b\b\b\b\b\b\b\b\b\b\b\b\b\b\b\b\b\b\b\b\b\b\b\b\b\b\b\b\b\b\b\b\b\b\b\b\b\b\b\b\b\b\b\b\b\b\b\b\b\b\b\b\b\b\b\b\b\b\b\b\b\b\b\b\b\b\b\b\b\b\b\b\b\b\b\r48/48 [==============================] - 51s 228ms/step - loss: 4.4803 - accuracy: 0.2893 - val_loss: 6.8096 - val_accuracy: 0.2840\n",
            "Epoch 2/10\n",
            "47/48 [============================>.] - ETA: 0s - loss: 3.4318 - accuracy: 0.1556\n",
            "Epoch 2: val_accuracy did not improve from 0.28402\n",
            "48/48 [==============================] - 3s 57ms/step - loss: 3.4213 - accuracy: 0.1552 - val_loss: 5.8408 - val_accuracy: 0.0976\n",
            "Epoch 3/10\n",
            "48/48 [==============================] - ETA: 0s - loss: 3.3573 - accuracy: 0.1114\n",
            "Epoch 3: val_accuracy did not improve from 0.28402\n",
            "48/48 [==============================] - 3s 57ms/step - loss: 3.3573 - accuracy: 0.1114 - val_loss: 2.5826 - val_accuracy: 0.1598\n",
            "Epoch 4/10\n",
            "47/48 [============================>.] - ETA: 0s - loss: 3.2744 - accuracy: 0.2427\n",
            "Epoch 4: val_accuracy did not improve from 0.28402\n",
            "48/48 [==============================] - 3s 59ms/step - loss: 3.2561 - accuracy: 0.2445 - val_loss: 1.9777 - val_accuracy: 0.2367\n",
            "Epoch 5/10\n",
            "48/48 [==============================] - ETA: 0s - loss: 1.9303 - accuracy: 0.4741\n",
            "Epoch 5: val_accuracy improved from 0.28402 to 0.44379, saving model to model_efficientnet.h5\n",
            "48/48 [==============================] - 4s 89ms/step - loss: 1.9303 - accuracy: 0.4741 - val_loss: 1.8185 - val_accuracy: 0.4438\n",
            "Epoch 6/10\n",
            "48/48 [==============================] - ETA: 0s - loss: 2.3203 - accuracy: 0.4563\n",
            "Epoch 6: val_accuracy did not improve from 0.44379\n",
            "48/48 [==============================] - 4s 89ms/step - loss: 2.3203 - accuracy: 0.4563 - val_loss: 1.8791 - val_accuracy: 0.3817\n",
            "Epoch 7/10\n",
            "48/48 [==============================] - ETA: 0s - loss: 2.3352 - accuracy: 0.3157\n",
            "Epoch 7: val_accuracy did not improve from 0.44379\n",
            "48/48 [==============================] - 4s 73ms/step - loss: 2.3352 - accuracy: 0.3157 - val_loss: 2.1844 - val_accuracy: 0.2249\n",
            "Epoch 8/10\n",
            "48/48 [==============================] - ETA: 0s - loss: 1.6595 - accuracy: 0.1862\n",
            "Epoch 8: val_accuracy did not improve from 0.44379\n",
            "48/48 [==============================] - 5s 114ms/step - loss: 1.6595 - accuracy: 0.1862 - val_loss: 1.7643 - val_accuracy: 0.1568\n",
            "Epoch 9/10\n",
            "48/48 [==============================] - ETA: 0s - loss: 1.5921 - accuracy: 0.1305\n",
            "Epoch 9: val_accuracy did not improve from 0.44379\n",
            "48/48 [==============================] - 8s 163ms/step - loss: 1.5921 - accuracy: 0.1305 - val_loss: 1.4750 - val_accuracy: 0.1391\n",
            "Epoch 10/10\n",
            "48/48 [==============================] - ETA: 0s - loss: 2.2466 - accuracy: 0.1054\n",
            "Epoch 10: val_accuracy did not improve from 0.44379\n",
            "48/48 [==============================] - 5s 96ms/step - loss: 2.2466 - accuracy: 0.1054 - val_loss: 1.7606 - val_accuracy: 0.1450\n"
          ]
        },
        {
          "output_type": "execute_result",
          "data": {
            "text/plain": [
              "<keras.src.callbacks.History at 0x7c97bc55f2b0>"
            ]
          },
          "metadata": {},
          "execution_count": 11
        }
      ]
    },
    {
      "cell_type": "markdown",
      "source": [
        "**Test verisi üzerinde EfficientNetB0 modelimizi değerlendirelim**"
      ],
      "metadata": {
        "id": "xleKK7MjvzUg"
      }
    },
    {
      "cell_type": "code",
      "source": [
        "score_valid = transfer_learning_model.evaluate(x_val, valid_yCl)\n",
        "print(\"Validation Accuracy: \", score_valid[1])\n",
        "\n",
        "score_test = transfer_learning_model.evaluate(x_test, test_yCl)\n",
        "print(\"Validation Accuracy: \", score_test[1])\n",
        "\n",
        "score_train = transfer_learning_model.evaluate(x_train, train_yCl)\n",
        "print(\"Validation Accuracy: \", score_train[1])\n",
        "\n",
        "# Test verisi üzerinde tahminlerin yapılması\n",
        "y_pred = transfer_learning_model.predict(x_test)\n",
        "y_pred_classes = np.argmax(y_pred, axis=1)\n",
        "y_true = np.argmax(test_yCl, axis=1)\n",
        "\n",
        "# Accuracy\n",
        "accuracy = accuracy_score(y_true, y_pred_classes)\n",
        "print(f'Test Accuracy: {accuracy:.4f}')\n",
        "\n",
        "# Precision\n",
        "precision = precision_score(y_true, y_pred_classes, average='weighted')\n",
        "print(f'Precision: {precision:.4f}')\n",
        "\n",
        "# Recall\n",
        "recall = recall_score(y_true, y_pred_classes, average='weighted')\n",
        "print(f'Recall: {recall:.4f}')\n",
        "\n",
        "# F1 Score\n",
        "f1 = f1_score(y_true, y_pred_classes, average='weighted')\n",
        "print(f'F1 Score: {f1:.4f}')\n",
        "\n",
        "# Confusion Matrix\n",
        "conf_matrix = confusion_matrix(y_true, y_pred_classes)\n",
        "print('Confusion Matrix:')\n",
        "print(conf_matrix)\n",
        "\n",
        "# Classification Report\n",
        "class_report = classification_report(y_true, y_pred_classes, labels=np.unique(y_true))\n",
        "print('Classification Report:')\n",
        "print(class_report)"
      ],
      "metadata": {
        "colab": {
          "base_uri": "https://localhost:8080/"
        },
        "id": "_IUuVpZhv8GX",
        "outputId": "39dc936c-530f-4e05-de28-1d4ee3084dbe"
      },
      "execution_count": 12,
      "outputs": [
        {
          "output_type": "stream",
          "name": "stdout",
          "text": [
            "11/11 [==============================] - 0s 25ms/step - loss: 3.2832 - accuracy: 0.4112\n",
            "Validation Accuracy:  0.41124260425567627\n",
            "27/27 [==============================] - 1s 23ms/step - loss: 3.6211 - accuracy: 0.3507\n",
            "Validation Accuracy:  0.3507108986377716\n",
            "95/95 [==============================] - 2s 21ms/step - loss: 3.4469 - accuracy: 0.4053\n",
            "Validation Accuracy:  0.40527182817459106\n",
            "27/27 [==============================] - 1s 19ms/step\n",
            "Test Accuracy: 0.3507\n",
            "Precision: 0.3636\n",
            "Recall: 0.3507\n",
            "F1 Score: 0.2862\n",
            "Confusion Matrix:\n",
            "[[  0   0  28 217]\n",
            " [  0 103  16 101]\n",
            " [  0   0  14 169]\n",
            " [  0   0  17 179]]\n",
            "Classification Report:\n",
            "              precision    recall  f1-score   support\n",
            "\n",
            "           0       0.00      0.00      0.00       245\n",
            "           1       1.00      0.47      0.64       220\n",
            "           2       0.19      0.08      0.11       183\n",
            "           3       0.27      0.91      0.42       196\n",
            "\n",
            "    accuracy                           0.35       844\n",
            "   macro avg       0.36      0.36      0.29       844\n",
            "weighted avg       0.36      0.35      0.29       844\n",
            "\n"
          ]
        },
        {
          "output_type": "stream",
          "name": "stderr",
          "text": [
            "/usr/local/lib/python3.10/dist-packages/sklearn/metrics/_classification.py:1344: UndefinedMetricWarning: Precision is ill-defined and being set to 0.0 in labels with no predicted samples. Use `zero_division` parameter to control this behavior.\n",
            "  _warn_prf(average, modifier, msg_start, len(result))\n",
            "/usr/local/lib/python3.10/dist-packages/sklearn/metrics/_classification.py:1344: UndefinedMetricWarning: Precision and F-score are ill-defined and being set to 0.0 in labels with no predicted samples. Use `zero_division` parameter to control this behavior.\n",
            "  _warn_prf(average, modifier, msg_start, len(result))\n",
            "/usr/local/lib/python3.10/dist-packages/sklearn/metrics/_classification.py:1344: UndefinedMetricWarning: Precision and F-score are ill-defined and being set to 0.0 in labels with no predicted samples. Use `zero_division` parameter to control this behavior.\n",
            "  _warn_prf(average, modifier, msg_start, len(result))\n",
            "/usr/local/lib/python3.10/dist-packages/sklearn/metrics/_classification.py:1344: UndefinedMetricWarning: Precision and F-score are ill-defined and being set to 0.0 in labels with no predicted samples. Use `zero_division` parameter to control this behavior.\n",
            "  _warn_prf(average, modifier, msg_start, len(result))\n"
          ]
        }
      ]
    },
    {
      "cell_type": "code",
      "source": [
        "from sklearn.metrics import confusion_matrix\n",
        "import seaborn as sns\n",
        "import matplotlib.pyplot as plt\n",
        "\n",
        "cm = confusion_matrix(y_true, y_pred_classes)\n",
        "sns.heatmap(cm, annot=True, fmt=\"d\", cmap=\"Blues\", xticklabels=[\"Normal\",\"Diabetic Retinopathy\",\"Glaucoma\",\"Cataract\"], yticklabels=[\"Normal\",\"Diabetic Retinopathy\",\"Glaucoma\",\"Cataract\"])\n",
        "plt.title(\"Confusion Matrix\")\n",
        "plt.xlabel(\"Predicted\")\n",
        "plt.ylabel(\"True\")\n",
        "plt.show()"
      ],
      "metadata": {
        "colab": {
          "base_uri": "https://localhost:8080/",
          "height": 604
        },
        "id": "PkLOWre4wAbe",
        "outputId": "f5c4e6ee-623c-434b-a2b4-095861ff999d"
      },
      "execution_count": 13,
      "outputs": [
        {
          "output_type": "display_data",
          "data": {
            "text/plain": [
              "<Figure size 640x480 with 2 Axes>"
            ],
            "image/png": "[encoded data removed]"
          },
          "metadata": {}
        }
      ]
    }
  ]
}