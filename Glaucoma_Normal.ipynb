{
  "nbformat": 4,
  "nbformat_minor": 0,
  "metadata": {
    "colab": {
      "provenance": [],
      "gpuType": "T4",
      "authorship_tag": "ABX9TyMe5NfiZKfRWVk1lzjS5gJr"
    },
    "kernelspec": {
      "name": "python3",
      "display_name": "Python 3"
    },
    "language_info": {
      "name": "python"
    },
    "accelerator": "GPU"
  },
  "cells": [
    {
      "cell_type": "code",
      "execution_count": 1,
      "metadata": {
        "colab": {
          "base_uri": "https://localhost:8080/"
        },
        "id": "Al_G5ptgFuGJ",
        "outputId": "1a82edc2-4c66-4d79-d464-be857c91d53b"
      },
      "outputs": [
        {
          "output_type": "stream",
          "name": "stdout",
          "text": [
            "Mounted at /gdrive\n"
          ]
        }
      ],
      "source": [
        "from google.colab import drive\n",
        "drive.mount('/gdrive')"
      ]
    },
    {
      "cell_type": "code",
      "source": [
        "import numpy as np # linear algebra\n",
        "import pandas as pd # data processing, CSV file I/O (e.g. pd.read_csv)\n",
        "import matplotlib.pyplot as plt\n",
        "import seaborn as sns\n",
        "import glob\n",
        "import cv2\n",
        "import os"
      ],
      "metadata": {
        "id": "T2jdFV4gF0eQ"
      },
      "execution_count": 2,
      "outputs": []
    },
    {
      "cell_type": "code",
      "source": [
        "print(os.listdir(\"/gdrive/My Drive/Goz_Hastaliklari/Glaucoma-Normal\"))"
      ],
      "metadata": {
        "colab": {
          "base_uri": "https://localhost:8080/"
        },
        "id": "ebnWAzQzF1cI",
        "outputId": "dbbe16c2-e2f5-41e1-b7a0-ab8c898e1208"
      },
      "execution_count": 3,
      "outputs": [
        {
          "output_type": "stream",
          "name": "stdout",
          "text": [
            "['Glaucoma', 'Normal']\n"
          ]
        }
      ]
    },
    {
      "cell_type": "code",
      "source": [
        "DATADIR = \"/gdrive/My Drive/Goz_Hastaliklari/Glaucoma-Normal\"\n",
        "\n",
        "CATEGORIES = [\"Glaucoma\",\"Normal\"]"
      ],
      "metadata": {
        "id": "XVQa7skjF2aK"
      },
      "execution_count": 4,
      "outputs": []
    },
    {
      "cell_type": "code",
      "source": [
        "IMG_SIZE = 50"
      ],
      "metadata": {
        "id": "AXLUkZJxF2_q"
      },
      "execution_count": 5,
      "outputs": []
    },
    {
      "cell_type": "code",
      "source": [
        "all_data = []\n",
        "\n",
        "def create_all_data():\n",
        "    for category in CATEGORIES:\n",
        "        path = os.path.join(DATADIR, category)\n",
        "        class_num = CATEGORIES.index(category)\n",
        "        for img in os.listdir(path):\n",
        "            try:\n",
        "                img_array = cv2.imread(os.path.join(path, img))\n",
        "                new_array = cv2.resize(img_array, (IMG_SIZE, IMG_SIZE))\n",
        "                all_data.append([new_array, class_num])\n",
        "            except Exception as e:\n",
        "                pass\n",
        "\n",
        "create_all_data()"
      ],
      "metadata": {
        "id": "4ua4Lj_KF4a3"
      },
      "execution_count": 6,
      "outputs": []
    },
    {
      "cell_type": "code",
      "source": [
        "print(\"Toplam Görüntü Sayısı: \", len(all_data))"
      ],
      "metadata": {
        "colab": {
          "base_uri": "https://localhost:8080/"
        },
        "id": "7uhXs6G4F5P_",
        "outputId": "d0d7cc8e-9c28-443f-f851-ed8e47fb5195"
      },
      "execution_count": 7,
      "outputs": [
        {
          "output_type": "stream",
          "name": "stdout",
          "text": [
            "Toplam Görüntü Sayısı:  2081\n"
          ]
        }
      ]
    },
    {
      "cell_type": "code",
      "source": [
        "X = []\n",
        "y = []\n",
        "\n",
        "for categories, label in all_data:\n",
        "  X.append(categories)\n",
        "  y.append(label)"
      ],
      "metadata": {
        "id": "Y_Cg70y1F6Ja"
      },
      "execution_count": 8,
      "outputs": []
    },
    {
      "cell_type": "code",
      "source": [
        "from sklearn.model_selection import train_test_split\n",
        "\n",
        "x_train, x_test, y_train, y_test = train_test_split(X, y, test_size=0.35, random_state =42)\n",
        "\n",
        "x_train, x_val, y_train, y_val = train_test_split(x_train, y_train, test_size=0.10, random_state=42)\n",
        ""
      ],
      "metadata": {
        "id": "S3133AqhF7ZY"
      },
      "execution_count": 9,
      "outputs": []
    },
    {
      "cell_type": "code",
      "source": [
        "x_train = np.array(x_train)\n",
        "x_test = np.array(x_test)\n",
        "\n",
        "y_train = np.array(y_train)\n",
        "y_test = np.array(y_test)\n",
        "\n",
        "x_val = np.array(x_val)\n",
        "y_val = np.array(y_val)"
      ],
      "metadata": {
        "id": "wkK-N1SrF95K"
      },
      "execution_count": 10,
      "outputs": []
    },
    {
      "cell_type": "code",
      "source": [
        "print(x_train.shape)\n",
        "print(x_test.shape)\n",
        "print(x_val.shape)\n",
        "\n",
        "print(y_train.shape)\n",
        "print(y_test.shape)\n",
        "print(y_val.shape)"
      ],
      "metadata": {
        "colab": {
          "base_uri": "https://localhost:8080/"
        },
        "id": "Dd3qzlsdF_pq",
        "outputId": "2c6c5173-8c25-4ada-c8ad-5ba020b95dd7"
      },
      "execution_count": 11,
      "outputs": [
        {
          "output_type": "stream",
          "name": "stdout",
          "text": [
            "(1216, 50, 50, 3)\n",
            "(729, 50, 50, 3)\n",
            "(136, 50, 50, 3)\n",
            "(1216,)\n",
            "(729,)\n",
            "(136,)\n"
          ]
        }
      ]
    },
    {
      "cell_type": "code",
      "source": [
        "x_train = x_train.astype('float32')\n",
        "x_val = x_val.astype('float32')\n",
        "x_test = x_test.astype('float32')"
      ],
      "metadata": {
        "id": "8DKPJJ9UGAYD"
      },
      "execution_count": 12,
      "outputs": []
    },
    {
      "cell_type": "code",
      "source": [
        "import tensorflow as tf\n",
        "\n",
        "train_yCl = tf.keras.utils.to_categorical(y_train, num_classes=2)\n",
        "test_yCl = tf.keras.utils.to_categorical(y_test, num_classes=2)\n",
        "valid_yCl = tf.keras.utils.to_categorical(y_val, num_classes=2)"
      ],
      "metadata": {
        "id": "T81hlW6rGBVJ"
      },
      "execution_count": 13,
      "outputs": []
    },
    {
      "cell_type": "code",
      "source": [
        "from keras.layers import Input, Dense, Activation, BatchNormalization, Flatten, Conv2D, MaxPooling2D, Dropout\n",
        "from keras.models import Sequential"
      ],
      "metadata": {
        "id": "L4RpvX_UGCZq"
      },
      "execution_count": 14,
      "outputs": []
    },
    {
      "cell_type": "code",
      "source": [
        "res = tf.keras.applications.ResNet50V2(\n",
        "    input_shape=(50, 50, 3),\n",
        "    include_top = False\n",
        ")"
      ],
      "metadata": {
        "colab": {
          "base_uri": "https://localhost:8080/"
        },
        "id": "R_ElQvWVF9Cm",
        "outputId": "3845faba-6f04-49f5-e15b-cd81431e73ce"
      },
      "execution_count": 15,
      "outputs": [
        {
          "output_type": "stream",
          "name": "stdout",
          "text": [
            "Downloading data from https://storage.googleapis.com/tensorflow/keras-applications/resnet/resnet50v2_weights_tf_dim_ordering_tf_kernels_notop.h5\n",
            "94668760/94668760 [==============================] - 0s 0us/step\n"
          ]
        }
      ]
    },
    {
      "cell_type": "code",
      "source": [
        "res_model = Sequential()\n",
        "res_model.add(res)\n",
        "res_model.add(Dropout(0.25))\n",
        "res_model.add(MaxPooling2D())\n",
        "res_model.add(Flatten())\n",
        "res_model.add(Dense(256, activation='relu'))\n",
        "res_model.add(BatchNormalization())\n",
        "res_model.add(Dropout(0.5))\n",
        "res_model.add(Dense(2, activation='softmax'))"
      ],
      "metadata": {
        "id": "jaw31Fu3GF2D"
      },
      "execution_count": 16,
      "outputs": []
    },
    {
      "cell_type": "code",
      "source": [
        "res_model.compile(loss='categorical_crossentropy', optimizer='adam', metrics=['accuracy'])"
      ],
      "metadata": {
        "id": "Efw1BcnEGJSD"
      },
      "execution_count": 17,
      "outputs": []
    },
    {
      "cell_type": "code",
      "source": [
        "history = res_model.fit(x_train, train_yCl,\n",
        "                        batch_size=120,\n",
        "                        epochs=10,\n",
        "                        validation_data=(x_val, valid_yCl))"
      ],
      "metadata": {
        "colab": {
          "base_uri": "https://localhost:8080/"
        },
        "id": "Eb7kJpLJGK0l",
        "outputId": "541ae595-ee9d-4480-edaa-c23541115d67"
      },
      "execution_count": 18,
      "outputs": [
        {
          "output_type": "stream",
          "name": "stdout",
          "text": [
            "Epoch 1/10\n",
            "11/11 [==============================] - 50s 556ms/step - loss: 1.0263 - accuracy: 0.6102 - val_loss: 63.4021 - val_accuracy: 0.4779\n",
            "Epoch 2/10\n",
            "11/11 [==============================] - 1s 106ms/step - loss: 0.7016 - accuracy: 0.6579 - val_loss: 953.6140 - val_accuracy: 0.5221\n",
            "Epoch 3/10\n",
            "11/11 [==============================] - 1s 105ms/step - loss: 0.6316 - accuracy: 0.6859 - val_loss: 2637.9949 - val_accuracy: 0.4779\n",
            "Epoch 4/10\n",
            "11/11 [==============================] - 1s 105ms/step - loss: 0.5433 - accuracy: 0.7212 - val_loss: 92.1078 - val_accuracy: 0.5441\n",
            "Epoch 5/10\n",
            "11/11 [==============================] - 1s 107ms/step - loss: 0.5800 - accuracy: 0.7138 - val_loss: 146.5182 - val_accuracy: 0.5441\n",
            "Epoch 6/10\n",
            "11/11 [==============================] - 1s 111ms/step - loss: 0.5008 - accuracy: 0.7492 - val_loss: 49.3712 - val_accuracy: 0.5956\n",
            "Epoch 7/10\n",
            "11/11 [==============================] - 1s 109ms/step - loss: 0.4976 - accuracy: 0.7689 - val_loss: 72.7121 - val_accuracy: 0.5221\n",
            "Epoch 8/10\n",
            "11/11 [==============================] - 1s 106ms/step - loss: 0.5151 - accuracy: 0.7582 - val_loss: 43.6313 - val_accuracy: 0.5221\n",
            "Epoch 9/10\n",
            "11/11 [==============================] - 1s 104ms/step - loss: 0.4628 - accuracy: 0.7804 - val_loss: 45.1899 - val_accuracy: 0.5221\n",
            "Epoch 10/10\n",
            "11/11 [==============================] - 1s 107ms/step - loss: 0.3900 - accuracy: 0.8232 - val_loss: 19.4789 - val_accuracy: 0.5294\n"
          ]
        }
      ]
    },
    {
      "cell_type": "code",
      "source": [
        "score_valid = res_model.evaluate(x_val, valid_yCl)\n",
        "print(\"Validation Accuracy: \", score_valid[1])\n",
        "\n",
        "score_test = res_model.evaluate(x_test, test_yCl)\n",
        "print(\"Test Accuracy: \", score_test[1])\n",
        "\n",
        "score_train = res_model.evaluate(x_train, train_yCl)\n",
        "print(\"Train Accuracy: \", score_train[1])"
      ],
      "metadata": {
        "colab": {
          "base_uri": "https://localhost:8080/"
        },
        "id": "2ui46wH6GNJk",
        "outputId": "1dcf399a-d774-4bf0-91df-e301481197da"
      },
      "execution_count": 19,
      "outputs": [
        {
          "output_type": "stream",
          "name": "stdout",
          "text": [
            "5/5 [==============================] - 2s 217ms/step - loss: 19.4789 - accuracy: 0.5294\n",
            "Validation Accuracy:  0.529411792755127\n",
            "23/23 [==============================] - 1s 57ms/step - loss: 25.0317 - accuracy: 0.4829\n",
            "Test Accuracy:  0.4828532338142395\n",
            "38/38 [==============================] - 1s 14ms/step - loss: 24.2477 - accuracy: 0.4778\n",
            "Train Accuracy:  0.4777960479259491\n"
          ]
        }
      ]
    },
    {
      "cell_type": "code",
      "source": [
        "from sklearn.metrics import accuracy_score, precision_score, recall_score, f1_score, classification_report, confusion_matrix\n",
        "\n",
        "# Test verisi üzerinde tahminlerde bulunun\n",
        "y_pred_probs = res_model.predict(x_test)\n",
        "y_pred_classes = np.argmax(y_pred_probs, axis=1)\n",
        "\n",
        "# Gerçek sınıfları alın\n",
        "y_true_classes = np.argmax(test_yCl, axis=1)\n",
        "\n",
        "# Accuracy\n",
        "accuracy = accuracy_score(y_true_classes, y_pred_classes)\n",
        "print(f\"Accuracy: {accuracy}\")\n",
        "\n",
        "# Precision\n",
        "precision = precision_score(y_true_classes, y_pred_classes, average='weighted')\n",
        "print(f\"Precision: {precision}\")\n",
        "\n",
        "# Recall\n",
        "recall = recall_score(y_true_classes, y_pred_classes, average='weighted')\n",
        "print(f\"Recall: {recall}\")\n",
        "\n",
        "# F1 Score\n",
        "f1 = f1_score(y_true_classes, y_pred_classes, average='weighted')\n",
        "print(f\"F1-Score: {f1}\")\n",
        "\n",
        "# Classification Report\n",
        "print(\"Classification Report:\")\n",
        "print(classification_report(y_true_classes, y_pred_classes))\n",
        "\n",
        "# Confusion Matrix\n",
        "cm = confusion_matrix(y_true_classes, y_pred_classes)\n",
        "print(\"Confusion Matrix:\")\n",
        "print(cm)"
      ],
      "metadata": {
        "colab": {
          "base_uri": "https://localhost:8080/"
        },
        "id": "JB3qe4OBGOXU",
        "outputId": "56c369bb-24e4-43f0-8862-09537651112f"
      },
      "execution_count": 20,
      "outputs": [
        {
          "output_type": "stream",
          "name": "stdout",
          "text": [
            "23/23 [==============================] - 1s 12ms/step\n",
            "Accuracy: 0.4828532235939643\n",
            "Precision: 0.4324130497949144\n",
            "Recall: 0.4828532235939643\n",
            "F1-Score: 0.34512806378942185\n",
            "Classification Report:\n",
            "              precision    recall  f1-score   support\n",
            "\n",
            "           0       0.49      0.95      0.64       359\n",
            "           1       0.38      0.03      0.06       370\n",
            "\n",
            "    accuracy                           0.48       729\n",
            "   macro avg       0.43      0.49      0.35       729\n",
            "weighted avg       0.43      0.48      0.35       729\n",
            "\n",
            "Confusion Matrix:\n",
            "[[341  18]\n",
            " [359  11]]\n"
          ]
        }
      ]
    },
    {
      "cell_type": "code",
      "source": [
        "from sklearn.metrics import confusion_matrix\n",
        "import seaborn as sns\n",
        "import matplotlib.pyplot as plt\n",
        "\n",
        "cm = confusion_matrix(y_true_classes, y_pred_classes)\n",
        "sns.heatmap(cm, annot=True, fmt=\"d\", cmap=\"Blues\", xticklabels=CATEGORIES, yticklabels=CATEGORIES)\n",
        "plt.title(\"Confusion Matrix\")\n",
        "plt.xlabel(\"Predicted\")\n",
        "plt.ylabel(\"True\")\n",
        "plt.show()"
      ],
      "metadata": {
        "colab": {
          "base_uri": "https://localhost:8080/",
          "height": 472
        },
        "id": "KmNss7fEGPWu",
        "outputId": "bd2e6b51-0466-4c6d-bfef-c79a0a6f8599"
      },
      "execution_count": 21,
      "outputs": [
        {
          "output_type": "display_data",
          "data": {
            "text/plain": [
              "<Figure size 640x480 with 2 Axes>"
            ],
            "image/png": "[encoded data removed]"
          },
          "metadata": {}
        }
      ]
    },
    {
      "cell_type": "code",
      "source": [
        "from sklearn.model_selection import train_test_split\n",
        "\n",
        "x_train, x_test, y_train, y_test = train_test_split(X, y, test_size=0.20, random_state =42)\n",
        "\n",
        "x_train, x_val, y_train, y_val = train_test_split(x_train, y_train, test_size=0.10, random_state=42)\n",
        ""
      ],
      "metadata": {
        "id": "lFKGFlORGQnD"
      },
      "execution_count": 22,
      "outputs": []
    },
    {
      "cell_type": "code",
      "source": [
        "x_train = np.array(x_train)\n",
        "x_test = np.array(x_test)\n",
        "\n",
        "y_train = np.array(y_train)\n",
        "y_test = np.array(y_test)\n",
        "\n",
        "x_val = np.array(x_val)\n",
        "y_val = np.array(y_val)\n",
        ""
      ],
      "metadata": {
        "id": "NYpo66UTGRoB"
      },
      "execution_count": 23,
      "outputs": []
    },
    {
      "cell_type": "code",
      "source": [
        "\n",
        "print(x_train.shape)\n",
        "print(x_test.shape)\n",
        "print(x_val.shape)\n",
        "\n",
        "print(y_train.shape)\n",
        "print(y_test.shape)\n",
        "print(y_val.shape)"
      ],
      "metadata": {
        "colab": {
          "base_uri": "https://localhost:8080/"
        },
        "id": "i7S78tG9GSZM",
        "outputId": "c3ba8516-d894-4aaf-f5c9-d880f3696385"
      },
      "execution_count": 24,
      "outputs": [
        {
          "output_type": "stream",
          "name": "stdout",
          "text": [
            "(1497, 50, 50, 3)\n",
            "(417, 50, 50, 3)\n",
            "(167, 50, 50, 3)\n",
            "(1497,)\n",
            "(417,)\n",
            "(167,)\n"
          ]
        }
      ]
    },
    {
      "cell_type": "code",
      "source": [
        "x_train = x_train.astype('float32')\n",
        "x_val = x_val.astype('float32')\n",
        "x_test = x_test.astype('float32')"
      ],
      "metadata": {
        "id": "i0r2engcGTDF"
      },
      "execution_count": 25,
      "outputs": []
    },
    {
      "cell_type": "code",
      "source": [
        "\n",
        "import tensorflow as tf\n",
        "\n",
        "train_yCl = tf.keras.utils.to_categorical(y_train, num_classes=2)\n",
        "test_yCl = tf.keras.utils.to_categorical(y_test, num_classes=2)\n",
        "valid_yCl = tf.keras.utils.to_categorical(y_val, num_classes=2)"
      ],
      "metadata": {
        "id": "ZPNLbuozGT0Y"
      },
      "execution_count": 26,
      "outputs": []
    },
    {
      "cell_type": "code",
      "source": [
        "\n",
        "from keras.layers import Input, Dense, Activation, BatchNormalization, Flatten, Conv2D, MaxPooling2D, Dropout\n",
        "from keras.models import Sequential"
      ],
      "metadata": {
        "id": "essPy0OhGUnd"
      },
      "execution_count": 27,
      "outputs": []
    },
    {
      "cell_type": "code",
      "source": [
        "\n",
        "res = tf.keras.applications.ResNet50V2(\n",
        "    input_shape=(50, 50, 3),\n",
        "    include_top = False\n",
        ")"
      ],
      "metadata": {
        "id": "YTQxCTTJGVcH"
      },
      "execution_count": 28,
      "outputs": []
    },
    {
      "cell_type": "code",
      "source": [
        "res_model = Sequential()\n",
        "res_model.add(res)\n",
        "res_model.add(Dropout(0.25))\n",
        "res_model.add(MaxPooling2D())\n",
        "res_model.add(Flatten())\n",
        "res_model.add(Dense(256, activation='relu'))\n",
        "res_model.add(BatchNormalization())\n",
        "res_model.add(Dropout(0.5))\n",
        "res_model.add(Dense(2, activation='softmax'))"
      ],
      "metadata": {
        "id": "r1bCUMFHGWL_"
      },
      "execution_count": 29,
      "outputs": []
    },
    {
      "cell_type": "code",
      "source": [
        "res_model.compile(loss='categorical_crossentropy', optimizer='adam', metrics=['accuracy'])\n",
        ""
      ],
      "metadata": {
        "id": "TwZ7DqrOGXc4"
      },
      "execution_count": 30,
      "outputs": []
    },
    {
      "cell_type": "code",
      "source": [
        "history = res_model.fit(x_train, train_yCl,\n",
        "                        batch_size=120,\n",
        "                        epochs=10,\n",
        "                        validation_data=(x_val, valid_yCl))"
      ],
      "metadata": {
        "colab": {
          "base_uri": "https://localhost:8080/"
        },
        "id": "DdrACun6GYUw",
        "outputId": "9924eab7-33c5-4efc-af38-0911d414a95a"
      },
      "execution_count": 31,
      "outputs": [
        {
          "output_type": "stream",
          "name": "stdout",
          "text": [
            "Epoch 1/10\n",
            "13/13 [==============================] - 32s 380ms/step - loss: 0.9269 - accuracy: 0.6373 - val_loss: 55.9560 - val_accuracy: 0.5210\n",
            "Epoch 2/10\n",
            "13/13 [==============================] - 1s 108ms/step - loss: 0.7449 - accuracy: 0.6660 - val_loss: 261.7612 - val_accuracy: 0.5210\n",
            "Epoch 3/10\n",
            "13/13 [==============================] - 1s 108ms/step - loss: 0.5540 - accuracy: 0.7381 - val_loss: 386.6068 - val_accuracy: 0.5210\n",
            "Epoch 4/10\n",
            "13/13 [==============================] - 1s 110ms/step - loss: 0.4143 - accuracy: 0.8163 - val_loss: 295.8141 - val_accuracy: 0.5210\n",
            "Epoch 5/10\n",
            "13/13 [==============================] - 1s 112ms/step - loss: 0.4370 - accuracy: 0.8183 - val_loss: 70.6034 - val_accuracy: 0.5210\n",
            "Epoch 6/10\n",
            "13/13 [==============================] - 1s 110ms/step - loss: 0.4574 - accuracy: 0.8136 - val_loss: 24.1195 - val_accuracy: 0.4790\n",
            "Epoch 7/10\n",
            "13/13 [==============================] - 1s 109ms/step - loss: 0.2982 - accuracy: 0.8764 - val_loss: 1.3066 - val_accuracy: 0.6707\n",
            "Epoch 8/10\n",
            "13/13 [==============================] - 1s 110ms/step - loss: 0.2851 - accuracy: 0.8891 - val_loss: 1.1567 - val_accuracy: 0.7605\n",
            "Epoch 9/10\n",
            "13/13 [==============================] - 1s 108ms/step - loss: 0.2458 - accuracy: 0.9031 - val_loss: 2.1685 - val_accuracy: 0.6527\n",
            "Epoch 10/10\n",
            "13/13 [==============================] - 1s 108ms/step - loss: 0.1482 - accuracy: 0.9452 - val_loss: 1.5492 - val_accuracy: 0.7725\n"
          ]
        }
      ]
    },
    {
      "cell_type": "code",
      "source": [
        "score_valid = res_model.evaluate(x_val, valid_yCl)\n",
        "print(\"Validation Accuracy: \", score_valid[1])\n",
        "\n",
        "score_test = res_model.evaluate(x_test, test_yCl)\n",
        "print(\"Test Accuracy: \", score_test[1])\n",
        "\n",
        "score_train = res_model.evaluate(x_train, train_yCl)\n",
        "print(\"Train Accuracy: \", score_train[1])\n",
        ""
      ],
      "metadata": {
        "colab": {
          "base_uri": "https://localhost:8080/"
        },
        "id": "FSsK00sAGZLR",
        "outputId": "d086add9-583a-445a-8915-2ffe4b0d43d3"
      },
      "execution_count": 32,
      "outputs": [
        {
          "output_type": "stream",
          "name": "stdout",
          "text": [
            "6/6 [==============================] - 1s 200ms/step - loss: 1.5492 - accuracy: 0.7725\n",
            "Validation Accuracy:  0.772455096244812\n",
            "14/14 [==============================] - 1s 70ms/step - loss: 1.1190 - accuracy: 0.8321\n",
            "Test Accuracy:  0.8321343064308167\n",
            "47/47 [==============================] - 1s 14ms/step - loss: 0.7078 - accuracy: 0.8677\n",
            "Train Accuracy:  0.8677354454994202\n"
          ]
        }
      ]
    },
    {
      "cell_type": "code",
      "source": [
        "\n",
        "from sklearn.metrics import accuracy_score, precision_score, recall_score, f1_score, classification_report, confusion_matrix\n",
        "\n",
        "# Test verisi üzerinde tahminlerde bulunun\n",
        "y_pred_probs = res_model.predict(x_test)\n",
        "y_pred_classes = np.argmax(y_pred_probs, axis=1)\n",
        "\n",
        "# Gerçek sınıfları alın\n",
        "y_true_classes = np.argmax(test_yCl, axis=1)\n",
        "\n",
        "# Accuracy\n",
        "accuracy = accuracy_score(y_true_classes, y_pred_classes)\n",
        "print(f\"Accuracy: {accuracy}\")\n",
        "\n",
        "# Precision\n",
        "precision = precision_score(y_true_classes, y_pred_classes, average='weighted')\n",
        "print(f\"Precision: {precision}\")\n",
        "\n",
        "# Recall\n",
        "recall = recall_score(y_true_classes, y_pred_classes, average='weighted')\n",
        "print(f\"Recall: {recall}\")\n",
        "\n",
        "# F1 Score\n",
        "f1 = f1_score(y_true_classes, y_pred_classes, average='weighted')\n",
        "print(f\"F1-Score: {f1}\")\n",
        "\n",
        "# Classification Report\n",
        "print(\"Classification Report:\")\n",
        "print(classification_report(y_true_classes, y_pred_classes))\n",
        "\n",
        "# Confusion Matrix\n",
        "cm = confusion_matrix(y_true_classes, y_pred_classes)\n",
        "print(\"Confusion Matrix:\")\n",
        "print(cm)"
      ],
      "metadata": {
        "colab": {
          "base_uri": "https://localhost:8080/"
        },
        "id": "jxa_3-DiGajX",
        "outputId": "cebbde98-3075-42b2-ebce-10ec6d0d9b0f"
      },
      "execution_count": 33,
      "outputs": [
        {
          "output_type": "stream",
          "name": "stdout",
          "text": [
            "14/14 [==============================] - 2s 21ms/step\n",
            "Accuracy: 0.8321342925659473\n",
            "Precision: 0.8521672617809721\n",
            "Recall: 0.8321342925659473\n",
            "F1-Score: 0.8295340814091771\n",
            "Classification Report:\n",
            "              precision    recall  f1-score   support\n",
            "\n",
            "           0       0.94      0.71      0.81       207\n",
            "           1       0.77      0.95      0.85       210\n",
            "\n",
            "    accuracy                           0.83       417\n",
            "   macro avg       0.85      0.83      0.83       417\n",
            "weighted avg       0.85      0.83      0.83       417\n",
            "\n",
            "Confusion Matrix:\n",
            "[[147  60]\n",
            " [ 10 200]]\n"
          ]
        }
      ]
    },
    {
      "cell_type": "code",
      "source": [
        "from sklearn.metrics import confusion_matrix\n",
        "import seaborn as sns\n",
        "import matplotlib.pyplot as plt\n",
        "\n",
        "cm = confusion_matrix(y_true_classes, y_pred_classes)\n",
        "sns.heatmap(cm, annot=True, fmt=\"d\", cmap=\"Blues\", xticklabels=CATEGORIES, yticklabels=CATEGORIES)\n",
        "plt.title(\"Confusion Matrix\")\n",
        "plt.xlabel(\"Predicted\")\n",
        "plt.ylabel(\"True\")\n",
        "plt.show()"
      ],
      "metadata": {
        "colab": {
          "base_uri": "https://localhost:8080/",
          "height": 472
        },
        "id": "QE4dsYkuGcea",
        "outputId": "27e6a93f-2056-4fcc-b254-bce66081b3bb"
      },
      "execution_count": 34,
      "outputs": [
        {
          "output_type": "display_data",
          "data": {
            "text/plain": [
              "<Figure size 640x480 with 2 Axes>"
            ],
            "image/png": "[encoded data removed]"
          },
          "metadata": {}
        }
      ]
    }
  ]
}