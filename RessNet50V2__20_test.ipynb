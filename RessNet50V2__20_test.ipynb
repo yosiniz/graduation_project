{
  "nbformat": 4,
  "nbformat_minor": 0,
  "metadata": {
    "colab": {
      "provenance": [],
      "gpuType": "T4"
    },
    "kernelspec": {
      "name": "python3",
      "display_name": "Python 3"
    },
    "language_info": {
      "name": "python"
    },
    "accelerator": "GPU"
  },
  "cells": [
    {
      "cell_type": "code",
      "execution_count": 1,
      "metadata": {
        "colab": {
          "base_uri": "https://localhost:8080/"
        },
        "id": "ycyAWSDJRYJH",
        "outputId": "e074c2a6-8c8a-4032-badf-ef43665c7698"
      },
      "outputs": [
        {
          "output_type": "stream",
          "name": "stdout",
          "text": [
            "Mounted at /gdrive\n"
          ]
        }
      ],
      "source": [
        "from google.colab import drive\n",
        "drive.mount('/gdrive')"
      ]
    },
    {
      "cell_type": "code",
      "source": [
        "import numpy as np # linear algebra\n",
        "import pandas as pd # data processing, CSV file I/O (e.g. pd.read_csv)\n",
        "import matplotlib.pyplot as plt\n",
        "import seaborn as sns\n",
        "import glob\n",
        "import cv2\n",
        "import os"
      ],
      "metadata": {
        "id": "LjGVGCuhRxdm"
      },
      "execution_count": 2,
      "outputs": []
    },
    {
      "cell_type": "code",
      "source": [
        "print(os.listdir(\"/gdrive/My Drive/Retinal Imaging/Eyes\"))"
      ],
      "metadata": {
        "colab": {
          "base_uri": "https://localhost:8080/"
        },
        "id": "Qt2SgEwWR0qY",
        "outputId": "6945fe8c-9caf-4621-be16-d558d54f9231"
      },
      "execution_count": 3,
      "outputs": [
        {
          "output_type": "stream",
          "name": "stdout",
          "text": [
            "['Normal', 'Diabetic Retinopathy', 'Glaucoma', 'Cataract']\n"
          ]
        }
      ]
    },
    {
      "cell_type": "code",
      "source": [
        "DATADIR = \"/gdrive/My Drive/Retinal Imaging/Eyes\"\n",
        "\n",
        "CATEGORIES = [\"Cataract\",\"Diabetic Retinopathy\",\"Glaucoma\",\"Normal\"]"
      ],
      "metadata": {
        "id": "Lc-hrdf3SFhf"
      },
      "execution_count": 4,
      "outputs": []
    },
    {
      "cell_type": "code",
      "source": [
        "IMG_SIZE = 50"
      ],
      "metadata": {
        "id": "Rv3tQbc8SYHu"
      },
      "execution_count": 5,
      "outputs": []
    },
    {
      "cell_type": "code",
      "source": [
        "all_data = []\n",
        "\n",
        "def create_all_data():\n",
        "    for category in CATEGORIES:\n",
        "        path = os.path.join(DATADIR, category)\n",
        "        class_num = CATEGORIES.index(category)\n",
        "        for img in os.listdir(path):\n",
        "            try:\n",
        "                img_array = cv2.imread(os.path.join(path, img))\n",
        "                new_array = cv2.resize(img_array, (IMG_SIZE, IMG_SIZE))\n",
        "                all_data.append([new_array, class_num])\n",
        "            except Exception as e:\n",
        "                pass\n",
        "\n",
        "create_all_data()"
      ],
      "metadata": {
        "id": "FfRj7SLhSaN-"
      },
      "execution_count": 6,
      "outputs": []
    },
    {
      "cell_type": "code",
      "source": [
        "print(\"Toplam Görüntü Sayısı: \", len(all_data))"
      ],
      "metadata": {
        "colab": {
          "base_uri": "https://localhost:8080/"
        },
        "id": "GSv9cxKOTGLm",
        "outputId": "8f9e15e9-028c-4f86-cf3a-c8527b0a6f7d"
      },
      "execution_count": 8,
      "outputs": [
        {
          "output_type": "stream",
          "name": "stdout",
          "text": [
            "Toplam Görüntü Sayısı:  4217\n"
          ]
        }
      ]
    },
    {
      "cell_type": "code",
      "source": [
        "X = []\n",
        "y = []\n",
        "\n",
        "for categories, label in all_data:\n",
        "  X.append(categories)\n",
        "  y.append(label)"
      ],
      "metadata": {
        "id": "p2E2vnGcTKVz"
      },
      "execution_count": 7,
      "outputs": []
    },
    {
      "cell_type": "code",
      "source": [
        "from sklearn.model_selection import train_test_split\n",
        "\n",
        "x_train, x_test, y_train, y_test = train_test_split(X, y, test_size=0.20, random_state =42)\n",
        "\n",
        "x_train, x_val, y_train, y_val = train_test_split(x_train, y_train, test_size=0.10, random_state=42)"
      ],
      "metadata": {
        "id": "UKzZ8ZRfTRUH"
      },
      "execution_count": 9,
      "outputs": []
    },
    {
      "cell_type": "code",
      "source": [
        "x_train = np.array(x_train)\n",
        "x_test = np.array(x_test)\n",
        "\n",
        "y_train = np.array(y_train)\n",
        "y_test = np.array(y_test)\n",
        "\n",
        "x_val = np.array(x_val)\n",
        "y_val = np.array(y_val)"
      ],
      "metadata": {
        "id": "VjNEAM6-TTwV"
      },
      "execution_count": 10,
      "outputs": []
    },
    {
      "cell_type": "code",
      "source": [
        "print(x_train.shape)\n",
        "print(x_test.shape)\n",
        "print(x_val.shape)\n",
        "\n",
        "print(y_train.shape)\n",
        "print(y_test.shape)\n",
        "print(y_val.shape)"
      ],
      "metadata": {
        "colab": {
          "base_uri": "https://localhost:8080/"
        },
        "id": "MGDUXUKoTVSj",
        "outputId": "6af11a4e-b576-4796-aa8b-cc24dad3e14e"
      },
      "execution_count": 11,
      "outputs": [
        {
          "output_type": "stream",
          "name": "stdout",
          "text": [
            "(3035, 50, 50, 3)\n",
            "(844, 50, 50, 3)\n",
            "(338, 50, 50, 3)\n",
            "(3035,)\n",
            "(844,)\n",
            "(338,)\n"
          ]
        }
      ]
    },
    {
      "cell_type": "code",
      "source": [
        "x_train = x_train.astype('float32')\n",
        "x_val = x_val.astype('float32')\n",
        "x_test = x_test.astype('float32')"
      ],
      "metadata": {
        "id": "2Ii2ygKRTZbA"
      },
      "execution_count": 12,
      "outputs": []
    },
    {
      "cell_type": "code",
      "source": [
        "import tensorflow as tf\n",
        "\n",
        "train_yCl = tf.keras.utils.to_categorical(y_train, num_classes=4)\n",
        "test_yCl = tf.keras.utils.to_categorical(y_test, num_classes=4)\n",
        "valid_yCl = tf.keras.utils.to_categorical(y_val, num_classes=4)"
      ],
      "metadata": {
        "id": "8Rm9Gp-lTamZ"
      },
      "execution_count": 13,
      "outputs": []
    },
    {
      "cell_type": "code",
      "source": [
        "from keras.layers import Input, Dense, Activation, BatchNormalization, Flatten, Conv2D, MaxPooling2D, Dropout\n",
        "from keras.models import Sequential"
      ],
      "metadata": {
        "id": "GRpsocoVTuyN"
      },
      "execution_count": 14,
      "outputs": []
    },
    {
      "cell_type": "code",
      "source": [
        "res = tf.keras.applications.ResNet50V2(\n",
        "    input_shape=(50, 50, 3),\n",
        "    include_top = False\n",
        ")"
      ],
      "metadata": {
        "id": "nudpApjpTzs1",
        "colab": {
          "base_uri": "https://localhost:8080/"
        },
        "outputId": "69d27634-0e94-4ede-f283-9f39e8e55758"
      },
      "execution_count": 15,
      "outputs": [
        {
          "output_type": "stream",
          "name": "stdout",
          "text": [
            "Downloading data from https://storage.googleapis.com/tensorflow/keras-applications/resnet/resnet50v2_weights_tf_dim_ordering_tf_kernels_notop.h5\n",
            "94668760/94668760 [==============================] - 4s 0us/step\n"
          ]
        }
      ]
    },
    {
      "cell_type": "code",
      "source": [
        "res_model = Sequential()\n",
        "res_model.add(res)\n",
        "res_model.add(Dropout(0.25))\n",
        "res_model.add(MaxPooling2D())\n",
        "res_model.add(Flatten())\n",
        "res_model.add(Dense(256, activation='relu'))\n",
        "res_model.add(BatchNormalization())\n",
        "res_model.add(Dropout(0.5))\n",
        "res_model.add(Dense(4, activation='softmax'))"
      ],
      "metadata": {
        "id": "aiFNBgF_T5Yq"
      },
      "execution_count": 16,
      "outputs": []
    },
    {
      "cell_type": "code",
      "source": [
        "res_model.compile(loss='categorical_crossentropy', optimizer='adam', metrics=['accuracy'])"
      ],
      "metadata": {
        "id": "oBI0VIcmT7q-"
      },
      "execution_count": 17,
      "outputs": []
    },
    {
      "cell_type": "code",
      "source": [
        "history = res_model.fit(x_train, train_yCl,\n",
        "                        batch_size=120,\n",
        "                        epochs=10,\n",
        "                        validation_data=(x_val, valid_yCl))"
      ],
      "metadata": {
        "colab": {
          "base_uri": "https://localhost:8080/"
        },
        "id": "P3pY0gW_T9jg",
        "outputId": "40ede89f-725f-4380-9468-dd33359e5407"
      },
      "execution_count": 18,
      "outputs": [
        {
          "output_type": "stream",
          "name": "stdout",
          "text": [
            "Epoch 1/10\n",
            "26/26 [==============================] - 418s 15s/step - loss: 1.1820 - accuracy: 0.5885 - val_loss: 169.5184 - val_accuracy: 0.2278\n",
            "Epoch 2/10\n",
            "26/26 [==============================] - 406s 16s/step - loss: 0.6043 - accuracy: 0.7565 - val_loss: 107.4766 - val_accuracy: 0.3254\n",
            "Epoch 3/10\n",
            "26/26 [==============================] - 412s 16s/step - loss: 0.4389 - accuracy: 0.8283 - val_loss: 17.3807 - val_accuracy: 0.3905\n",
            "Epoch 4/10\n",
            "26/26 [==============================] - 422s 16s/step - loss: 0.3497 - accuracy: 0.8675 - val_loss: 5.7834 - val_accuracy: 0.6391\n",
            "Epoch 5/10\n",
            "26/26 [==============================] - 409s 16s/step - loss: 0.2583 - accuracy: 0.9074 - val_loss: 3.2506 - val_accuracy: 0.5740\n",
            "Epoch 6/10\n",
            "26/26 [==============================] - 407s 16s/step - loss: 0.2354 - accuracy: 0.9124 - val_loss: 1.7715 - val_accuracy: 0.7308\n",
            "Epoch 7/10\n",
            "26/26 [==============================] - 428s 16s/step - loss: 0.2328 - accuracy: 0.9163 - val_loss: 1.0727 - val_accuracy: 0.7988\n",
            "Epoch 8/10\n",
            "26/26 [==============================] - 410s 16s/step - loss: 0.1582 - accuracy: 0.9433 - val_loss: 0.9784 - val_accuracy: 0.8373\n",
            "Epoch 9/10\n",
            "26/26 [==============================] - 411s 16s/step - loss: 0.1430 - accuracy: 0.9512 - val_loss: 1.1297 - val_accuracy: 0.7604\n",
            "Epoch 10/10\n",
            "26/26 [==============================] - 410s 16s/step - loss: 0.1983 - accuracy: 0.9311 - val_loss: 0.7486 - val_accuracy: 0.8047\n"
          ]
        }
      ]
    },
    {
      "cell_type": "code",
      "source": [
        "score_valid = res_model.evaluate(x_val, valid_yCl)\n",
        "print(\"Validation Accuracy: \", score_valid[1])\n",
        "\n",
        "score_test = res_model.evaluate(x_test, test_yCl)\n",
        "print(\"Test Accuracy: \", score_test[1])\n",
        "\n",
        "score_train = res_model.evaluate(x_train, train_yCl)\n",
        "print(\"Train Accuracy: \", score_train[1])"
      ],
      "metadata": {
        "colab": {
          "base_uri": "https://localhost:8080/"
        },
        "id": "1Jzpv4D9UAc_",
        "outputId": "669b793c-372e-48c5-a9d4-f4707c36515d"
      },
      "execution_count": 19,
      "outputs": [
        {
          "output_type": "stream",
          "name": "stdout",
          "text": [
            "11/11 [==============================] - 5s 430ms/step - loss: 0.7486 - accuracy: 0.8047\n",
            "Validation Accuracy:  0.8047337532043457\n",
            "27/27 [==============================] - 10s 354ms/step - loss: 0.6531 - accuracy: 0.8258\n",
            "Test Accuracy:  0.8258293867111206\n",
            "95/95 [==============================] - 35s 373ms/step - loss: 0.2782 - accuracy: 0.9120\n",
            "Train Accuracy:  0.9120263457298279\n"
          ]
        }
      ]
    },
    {
      "cell_type": "code",
      "source": [
        "from sklearn.metrics import accuracy_score, precision_score, recall_score, f1_score, classification_report, confusion_matrix\n",
        "\n",
        "# Test verisi üzerinde tahminlerde bulunun\n",
        "y_pred_probs = res_model.predict(x_test)\n",
        "y_pred_classes = np.argmax(y_pred_probs, axis=1)\n",
        "\n",
        "# Gerçek sınıfları alın\n",
        "y_true_classes = np.argmax(test_yCl, axis=1)\n",
        "\n",
        "# Accuracy\n",
        "accuracy = accuracy_score(y_true_classes, y_pred_classes)\n",
        "print(f\"Accuracy: {accuracy}\")\n",
        "\n",
        "# Precision\n",
        "precision = precision_score(y_true_classes, y_pred_classes, average='weighted')\n",
        "print(f\"Precision: {precision}\")\n",
        "\n",
        "# Recall\n",
        "recall = recall_score(y_true_classes, y_pred_classes, average='weighted')\n",
        "print(f\"Recall: {recall}\")\n",
        "\n",
        "# F1 Score\n",
        "f1 = f1_score(y_true_classes, y_pred_classes, average='weighted')\n",
        "print(f\"F1-Score: {f1}\")\n",
        "\n",
        "# Classification Report\n",
        "print(\"Classification Report:\")\n",
        "print(classification_report(y_true_classes, y_pred_classes))\n",
        "\n",
        "# Confusion Matrix\n",
        "cm = confusion_matrix(y_true_classes, y_pred_classes)\n",
        "print(\"Confusion Matrix:\")\n",
        "print(cm)"
      ],
      "metadata": {
        "colab": {
          "base_uri": "https://localhost:8080/"
        },
        "id": "pHanpnJGUC-y",
        "outputId": "edc2115b-47e8-4cac-fce6-983b8c9f209a"
      },
      "execution_count": 20,
      "outputs": [
        {
          "output_type": "stream",
          "name": "stdout",
          "text": [
            "27/27 [==============================] - 10s 342ms/step\n",
            "Accuracy: 0.8258293838862559\n",
            "Precision: 0.8481651794550216\n",
            "Recall: 0.8258293838862559\n",
            "F1-Score: 0.8269089357650466\n",
            "Classification Report:\n",
            "              precision    recall  f1-score   support\n",
            "\n",
            "           0       0.95      0.66      0.78       233\n",
            "           1       0.98      1.00      0.99       224\n",
            "           2       0.65      0.84      0.73       188\n",
            "           3       0.76      0.81      0.79       199\n",
            "\n",
            "    accuracy                           0.83       844\n",
            "   macro avg       0.84      0.83      0.82       844\n",
            "weighted avg       0.85      0.83      0.83       844\n",
            "\n",
            "Confusion Matrix:\n",
            "[[154   0  53  26]\n",
            " [  0 223   1   0]\n",
            " [  5   1 158  24]\n",
            " [  3   3  31 162]]\n"
          ]
        }
      ]
    },
    {
      "cell_type": "code",
      "source": [
        "from sklearn.metrics import confusion_matrix\n",
        "import seaborn as sns\n",
        "import matplotlib.pyplot as plt\n",
        "\n",
        "cm = confusion_matrix(y_true_classes, y_pred_classes)\n",
        "sns.heatmap(cm, annot=True, fmt=\"d\", cmap=\"Blues\", xticklabels=CATEGORIES, yticklabels=CATEGORIES)\n",
        "plt.title(\"Confusion Matrix\")\n",
        "plt.xlabel(\"Predicted\")\n",
        "plt.ylabel(\"True\")\n",
        "plt.show()\n"
      ],
      "metadata": {
        "colab": {
          "base_uri": "https://localhost:8080/",
          "height": 604
        },
        "id": "vKxYvSMAUFvw",
        "outputId": "38933ba1-d151-4692-f86c-476e8c1a7f0d"
      },
      "execution_count": 21,
      "outputs": [
        {
          "output_type": "display_data",
          "data": {
            "text/plain": [
              "<Figure size 640x480 with 2 Axes>"
            ],
            "image/png": "[encoded data removed]"
          },
          "metadata": {}
        }
      ]
    }
  ]
}