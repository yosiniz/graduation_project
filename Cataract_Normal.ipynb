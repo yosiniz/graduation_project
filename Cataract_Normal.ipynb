{
  "nbformat": 4,
  "nbformat_minor": 0,
  "metadata": {
    "colab": {
      "provenance": [],
      "gpuType": "T4",
      "authorship_tag": "ABX9TyOXwGTY3re7Lqj+VUNOo8XU"
    },
    "kernelspec": {
      "name": "python3",
      "display_name": "Python 3"
    },
    "language_info": {
      "name": "python"
    },
    "accelerator": "GPU"
  },
  "cells": [
    {
      "cell_type": "code",
      "execution_count": 1,
      "metadata": {
        "colab": {
          "base_uri": "https://localhost:8080/"
        },
        "id": "or09DS1PAIFY",
        "outputId": "f0e17273-ff81-4a46-c86c-9fabcd2e4802"
      },
      "outputs": [
        {
          "output_type": "stream",
          "name": "stdout",
          "text": [
            "Mounted at /gdrive\n"
          ]
        }
      ],
      "source": [
        "from google.colab import drive\n",
        "drive.mount('/gdrive')"
      ]
    },
    {
      "cell_type": "code",
      "source": [
        "import numpy as np # linear algebra\n",
        "import pandas as pd # data processing, CSV file I/O (e.g. pd.read_csv)\n",
        "import matplotlib.pyplot as plt\n",
        "import seaborn as sns\n",
        "import glob\n",
        "import cv2\n",
        "import os"
      ],
      "metadata": {
        "id": "2ohdI1nmAVnt"
      },
      "execution_count": 2,
      "outputs": []
    },
    {
      "cell_type": "code",
      "source": [
        "print(os.listdir(\"/gdrive/My Drive/Goz_Hastaliklari/Cataract-Normal\"))"
      ],
      "metadata": {
        "colab": {
          "base_uri": "https://localhost:8080/"
        },
        "id": "0owX6XKZAiPV",
        "outputId": "b4f6220e-d5b8-4c4d-f80c-0f0fd092fb5e"
      },
      "execution_count": 3,
      "outputs": [
        {
          "output_type": "stream",
          "name": "stdout",
          "text": [
            "['Cataract', 'Normal']\n"
          ]
        }
      ]
    },
    {
      "cell_type": "code",
      "source": [
        "DATADIR = \"/gdrive/My Drive/Goz_Hastaliklari/Cataract-Normal\"\n",
        "\n",
        "CATEGORIES = [\"Cataract\",\"Normal\"]"
      ],
      "metadata": {
        "id": "zkhVcaJqAqjB"
      },
      "execution_count": 4,
      "outputs": []
    },
    {
      "cell_type": "code",
      "source": [
        "IMG_SIZE = 50"
      ],
      "metadata": {
        "id": "FftkB5N4Bc5o"
      },
      "execution_count": 5,
      "outputs": []
    },
    {
      "cell_type": "code",
      "source": [
        "all_data = []\n",
        "\n",
        "def create_all_data():\n",
        "    for category in CATEGORIES:\n",
        "        path = os.path.join(DATADIR, category)\n",
        "        class_num = CATEGORIES.index(category)\n",
        "        for img in os.listdir(path):\n",
        "            try:\n",
        "                img_array = cv2.imread(os.path.join(path, img))\n",
        "                new_array = cv2.resize(img_array, (IMG_SIZE, IMG_SIZE))\n",
        "                all_data.append([new_array, class_num])\n",
        "            except Exception as e:\n",
        "                pass\n",
        "\n",
        "create_all_data()\n"
      ],
      "metadata": {
        "id": "8LaxlNAHBeAp"
      },
      "execution_count": 6,
      "outputs": []
    },
    {
      "cell_type": "code",
      "source": [
        "print(\"Toplam Görüntü Sayısı: \", len(all_data))"
      ],
      "metadata": {
        "colab": {
          "base_uri": "https://localhost:8080/"
        },
        "id": "crbuvbZnBfim",
        "outputId": "ef47a7a2-f495-491f-e25e-83be8fb0223d"
      },
      "execution_count": 7,
      "outputs": [
        {
          "output_type": "stream",
          "name": "stdout",
          "text": [
            "Toplam Görüntü Sayısı:  2113\n"
          ]
        }
      ]
    },
    {
      "cell_type": "code",
      "source": [
        "X = []\n",
        "y = []\n",
        "\n",
        "for categories, label in all_data:\n",
        "  X.append(categories)\n",
        "  y.append(label)\n"
      ],
      "metadata": {
        "id": "J_AvjROWBgyN"
      },
      "execution_count": 8,
      "outputs": []
    },
    {
      "cell_type": "code",
      "source": [
        "from sklearn.model_selection import train_test_split\n",
        "\n",
        "x_train, x_test, y_train, y_test = train_test_split(X, y, test_size=0.35, random_state =42)\n",
        "\n",
        "x_train, x_val, y_train, y_val = train_test_split(x_train, y_train, test_size=0.10, random_state=42)"
      ],
      "metadata": {
        "id": "exEhe6ACBx0L"
      },
      "execution_count": 9,
      "outputs": []
    },
    {
      "cell_type": "code",
      "source": [
        "x_train = np.array(x_train)\n",
        "x_test = np.array(x_test)\n",
        "\n",
        "y_train = np.array(y_train)\n",
        "y_test = np.array(y_test)\n",
        "\n",
        "x_val = np.array(x_val)\n",
        "y_val = np.array(y_val)"
      ],
      "metadata": {
        "id": "xH1BqHmeB4Ui"
      },
      "execution_count": 10,
      "outputs": []
    },
    {
      "cell_type": "code",
      "source": [
        "print(x_train.shape)\n",
        "print(x_test.shape)\n",
        "print(x_val.shape)\n",
        "\n",
        "print(y_train.shape)\n",
        "print(y_test.shape)\n",
        "print(y_val.shape)"
      ],
      "metadata": {
        "colab": {
          "base_uri": "https://localhost:8080/"
        },
        "id": "vs2DFSzgB5ck",
        "outputId": "addfcd16-ddc5-47e9-a5cd-83cae956995b"
      },
      "execution_count": 11,
      "outputs": [
        {
          "output_type": "stream",
          "name": "stdout",
          "text": [
            "(1235, 50, 50, 3)\n",
            "(740, 50, 50, 3)\n",
            "(138, 50, 50, 3)\n",
            "(1235,)\n",
            "(740,)\n",
            "(138,)\n"
          ]
        }
      ]
    },
    {
      "cell_type": "code",
      "source": [
        "x_train = x_train.astype('float32')\n",
        "x_val = x_val.astype('float32')\n",
        "x_test = x_test.astype('float32')"
      ],
      "metadata": {
        "id": "22iV4SS9B6sx"
      },
      "execution_count": 12,
      "outputs": []
    },
    {
      "cell_type": "code",
      "source": [
        "import tensorflow as tf\n",
        "\n",
        "train_yCl = tf.keras.utils.to_categorical(y_train, num_classes=2)\n",
        "test_yCl = tf.keras.utils.to_categorical(y_test, num_classes=2)\n",
        "valid_yCl = tf.keras.utils.to_categorical(y_val, num_classes=2)"
      ],
      "metadata": {
        "id": "HreLRzbhB7v_"
      },
      "execution_count": 13,
      "outputs": []
    },
    {
      "cell_type": "code",
      "source": [
        "from keras.layers import Input, Dense, Activation, BatchNormalization, Flatten, Conv2D, MaxPooling2D, Dropout\n",
        "from keras.models import Sequential"
      ],
      "metadata": {
        "id": "GPx4g-X2CDLx"
      },
      "execution_count": 14,
      "outputs": []
    },
    {
      "cell_type": "code",
      "source": [
        "res = tf.keras.applications.ResNet50V2(\n",
        "    input_shape=(50, 50, 3),\n",
        "    include_top = False\n",
        ")"
      ],
      "metadata": {
        "colab": {
          "base_uri": "https://localhost:8080/"
        },
        "id": "1LBF8B6yCEj7",
        "outputId": "c872e7ec-bc09-48b5-9662-068aa3982c22"
      },
      "execution_count": 15,
      "outputs": [
        {
          "output_type": "stream",
          "name": "stdout",
          "text": [
            "Downloading data from https://storage.googleapis.com/tensorflow/keras-applications/resnet/resnet50v2_weights_tf_dim_ordering_tf_kernels_notop.h5\n",
            "94668760/94668760 [==============================] - 1s 0us/step\n"
          ]
        }
      ]
    },
    {
      "cell_type": "code",
      "source": [
        "res_model = Sequential()\n",
        "res_model.add(res)\n",
        "res_model.add(Dropout(0.25))\n",
        "res_model.add(MaxPooling2D())\n",
        "res_model.add(Flatten())\n",
        "res_model.add(Dense(256, activation='relu'))\n",
        "res_model.add(BatchNormalization())\n",
        "res_model.add(Dropout(0.5))\n",
        "res_model.add(Dense(2, activation='softmax'))"
      ],
      "metadata": {
        "id": "S5Nw1JrCCGOv"
      },
      "execution_count": 16,
      "outputs": []
    },
    {
      "cell_type": "code",
      "source": [
        "res_model.compile(loss='categorical_crossentropy', optimizer='adam', metrics=['accuracy'])"
      ],
      "metadata": {
        "id": "MKcmMA8QCIIW"
      },
      "execution_count": 17,
      "outputs": []
    },
    {
      "cell_type": "code",
      "source": [
        "history = res_model.fit(x_train, train_yCl,\n",
        "                        batch_size=120,\n",
        "                        epochs=10,\n",
        "                        validation_data=(x_val, valid_yCl))"
      ],
      "metadata": {
        "colab": {
          "base_uri": "https://localhost:8080/"
        },
        "id": "-7ppmBsNCJVO",
        "outputId": "c1ad8e87-50e1-4137-8fcd-980b64676884"
      },
      "execution_count": 18,
      "outputs": [
        {
          "output_type": "stream",
          "name": "stdout",
          "text": [
            "Epoch 1/10\n",
            "11/11 [==============================] - 43s 567ms/step - loss: 0.6418 - accuracy: 0.7684 - val_loss: 46.0344 - val_accuracy: 0.5362\n",
            "Epoch 2/10\n",
            "11/11 [==============================] - 1s 108ms/step - loss: 0.2662 - accuracy: 0.9028 - val_loss: 332.5359 - val_accuracy: 0.4710\n",
            "Epoch 3/10\n",
            "11/11 [==============================] - 1s 106ms/step - loss: 0.2271 - accuracy: 0.9101 - val_loss: 675.3998 - val_accuracy: 0.4710\n",
            "Epoch 4/10\n",
            "11/11 [==============================] - 1s 99ms/step - loss: 0.1319 - accuracy: 0.9498 - val_loss: 310.5477 - val_accuracy: 0.4710\n",
            "Epoch 5/10\n",
            "11/11 [==============================] - 1s 105ms/step - loss: 0.1118 - accuracy: 0.9555 - val_loss: 137.6512 - val_accuracy: 0.4783\n",
            "Epoch 6/10\n",
            "11/11 [==============================] - 1s 107ms/step - loss: 0.0835 - accuracy: 0.9733 - val_loss: 9.2490 - val_accuracy: 0.7754\n",
            "Epoch 7/10\n",
            "11/11 [==============================] - 1s 104ms/step - loss: 0.0703 - accuracy: 0.9725 - val_loss: 10.8793 - val_accuracy: 0.8043\n",
            "Epoch 8/10\n",
            "11/11 [==============================] - 1s 102ms/step - loss: 0.0623 - accuracy: 0.9814 - val_loss: 5.1048 - val_accuracy: 0.8261\n",
            "Epoch 9/10\n",
            "11/11 [==============================] - 1s 101ms/step - loss: 0.0798 - accuracy: 0.9749 - val_loss: 5.9202 - val_accuracy: 0.7826\n",
            "Epoch 10/10\n",
            "11/11 [==============================] - 1s 100ms/step - loss: 0.0513 - accuracy: 0.9806 - val_loss: 4.0956 - val_accuracy: 0.7536\n"
          ]
        }
      ]
    },
    {
      "cell_type": "code",
      "source": [
        "score_valid = res_model.evaluate(x_val, valid_yCl)\n",
        "print(\"Validation Accuracy: \", score_valid[1])\n",
        "\n",
        "score_test = res_model.evaluate(x_test, test_yCl)\n",
        "print(\"Test Accuracy: \", score_test[1])\n",
        "\n",
        "score_train = res_model.evaluate(x_train, train_yCl)\n",
        "print(\"Train Accuracy: \", score_train[1])"
      ],
      "metadata": {
        "colab": {
          "base_uri": "https://localhost:8080/"
        },
        "id": "vmo1b9CZCKlx",
        "outputId": "0edf4f29-d49d-4491-d236-e0acfd7897b6"
      },
      "execution_count": 19,
      "outputs": [
        {
          "output_type": "stream",
          "name": "stdout",
          "text": [
            "5/5 [==============================] - 2s 223ms/step - loss: 4.0956 - accuracy: 0.7536\n",
            "Validation Accuracy:  0.7536231875419617\n",
            "24/24 [==============================] - 1s 45ms/step - loss: 3.7648 - accuracy: 0.8054\n",
            "Test Accuracy:  0.8054053783416748\n",
            "39/39 [==============================] - 2s 40ms/step - loss: 3.2367 - accuracy: 0.8146\n",
            "Train Accuracy:  0.8145748972892761\n"
          ]
        }
      ]
    },
    {
      "cell_type": "code",
      "source": [
        "from sklearn.metrics import accuracy_score, precision_score, recall_score, f1_score, classification_report, confusion_matrix\n",
        "\n",
        "# Test verisi üzerinde tahminlerde bulunun\n",
        "y_pred_probs = res_model.predict(x_test)\n",
        "y_pred_classes = np.argmax(y_pred_probs, axis=1)\n",
        "\n",
        "# Gerçek sınıfları alın\n",
        "y_true_classes = np.argmax(test_yCl, axis=1)\n",
        "\n",
        "# Accuracy\n",
        "accuracy = accuracy_score(y_true_classes, y_pred_classes)\n",
        "print(f\"Accuracy: {accuracy}\")\n",
        "\n",
        "# Precision\n",
        "precision = precision_score(y_true_classes, y_pred_classes, average='weighted')\n",
        "print(f\"Precision: {precision}\")\n",
        "\n",
        "# Recall\n",
        "recall = recall_score(y_true_classes, y_pred_classes, average='weighted')\n",
        "print(f\"Recall: {recall}\")\n",
        "\n",
        "# F1 Score\n",
        "f1 = f1_score(y_true_classes, y_pred_classes, average='weighted')\n",
        "print(f\"F1-Score: {f1}\")\n",
        "\n",
        "# Classification Report\n",
        "print(\"Classification Report:\")\n",
        "print(classification_report(y_true_classes, y_pred_classes))\n",
        "\n",
        "# Confusion Matrix\n",
        "cm = confusion_matrix(y_true_classes, y_pred_classes)\n",
        "print(\"Confusion Matrix:\")\n",
        "print(cm)\n"
      ],
      "metadata": {
        "colab": {
          "base_uri": "https://localhost:8080/"
        },
        "id": "eZ7O6zSvCL6J",
        "outputId": "6932ae2c-4f5f-41a6-c8f3-519113592096"
      },
      "execution_count": 20,
      "outputs": [
        {
          "output_type": "stream",
          "name": "stdout",
          "text": [
            "24/24 [==============================] - 1s 16ms/step\n",
            "Accuracy: 0.8054054054054054\n",
            "Precision: 0.8380955981132655\n",
            "Recall: 0.8054054054054054\n",
            "F1-Score: 0.8000563999164775\n",
            "Classification Report:\n",
            "              precision    recall  f1-score   support\n",
            "\n",
            "           0       0.94      0.64      0.77       365\n",
            "           1       0.74      0.96      0.83       375\n",
            "\n",
            "    accuracy                           0.81       740\n",
            "   macro avg       0.84      0.80      0.80       740\n",
            "weighted avg       0.84      0.81      0.80       740\n",
            "\n",
            "Confusion Matrix:\n",
            "[[235 130]\n",
            " [ 14 361]]\n"
          ]
        }
      ]
    },
    {
      "cell_type": "code",
      "source": [
        "from sklearn.metrics import confusion_matrix\n",
        "import seaborn as sns\n",
        "import matplotlib.pyplot as plt\n",
        "\n",
        "cm = confusion_matrix(y_true_classes, y_pred_classes)\n",
        "sns.heatmap(cm, annot=True, fmt=\"d\", cmap=\"Blues\", xticklabels=CATEGORIES, yticklabels=CATEGORIES)\n",
        "plt.title(\"Confusion Matrix\")\n",
        "plt.xlabel(\"Predicted\")\n",
        "plt.ylabel(\"True\")\n",
        "plt.show()\n"
      ],
      "metadata": {
        "colab": {
          "base_uri": "https://localhost:8080/",
          "height": 472
        },
        "id": "piBNm7u4CNcT",
        "outputId": "767af771-306b-4198-e280-f928b97f247a"
      },
      "execution_count": 21,
      "outputs": [
        {
          "output_type": "display_data",
          "data": {
            "text/plain": [
              "<Figure size 640x480 with 2 Axes>"
            ],
            "image/png": "[encoded data removed]"
          },
          "metadata": {}
        }
      ]
    },
    {
      "cell_type": "code",
      "source": [
        "from sklearn.model_selection import train_test_split\n",
        "\n",
        "x_train, x_test, y_train, y_test = train_test_split(X, y, test_size=0.20, random_state =42)\n",
        "\n",
        "x_train, x_val, y_train, y_val = train_test_split(x_train, y_train, test_size=0.10, random_state=42)"
      ],
      "metadata": {
        "id": "ERlUZEMJC1Y7"
      },
      "execution_count": 22,
      "outputs": []
    },
    {
      "cell_type": "code",
      "source": [
        "x_train = np.array(x_train)\n",
        "x_test = np.array(x_test)\n",
        "\n",
        "y_train = np.array(y_train)\n",
        "y_test = np.array(y_test)\n",
        "\n",
        "x_val = np.array(x_val)\n",
        "y_val = np.array(y_val)"
      ],
      "metadata": {
        "id": "lse1zgrAC5jg"
      },
      "execution_count": 23,
      "outputs": []
    },
    {
      "cell_type": "code",
      "source": [
        "print(x_train.shape)\n",
        "print(x_test.shape)\n",
        "print(x_val.shape)\n",
        "\n",
        "print(y_train.shape)\n",
        "print(y_test.shape)\n",
        "print(y_val.shape)"
      ],
      "metadata": {
        "colab": {
          "base_uri": "https://localhost:8080/"
        },
        "id": "CsyQIm8BC6pS",
        "outputId": "3a446068-a289-4f97-9d20-770fbd6436a1"
      },
      "execution_count": 24,
      "outputs": [
        {
          "output_type": "stream",
          "name": "stdout",
          "text": [
            "(1521, 50, 50, 3)\n",
            "(423, 50, 50, 3)\n",
            "(169, 50, 50, 3)\n",
            "(1521,)\n",
            "(423,)\n",
            "(169,)\n"
          ]
        }
      ]
    },
    {
      "cell_type": "code",
      "source": [
        "x_train = x_train.astype('float32')\n",
        "x_val = x_val.astype('float32')\n",
        "x_test = x_test.astype('float32')"
      ],
      "metadata": {
        "id": "afBLrww6C7zA"
      },
      "execution_count": 25,
      "outputs": []
    },
    {
      "cell_type": "code",
      "source": [
        "import tensorflow as tf\n",
        "\n",
        "train_yCl = tf.keras.utils.to_categorical(y_train, num_classes=2)\n",
        "test_yCl = tf.keras.utils.to_categorical(y_test, num_classes=2)\n",
        "valid_yCl = tf.keras.utils.to_categorical(y_val, num_classes=2)"
      ],
      "metadata": {
        "id": "sFVojc0zC8np"
      },
      "execution_count": 26,
      "outputs": []
    },
    {
      "cell_type": "code",
      "source": [
        "from keras.layers import Input, Dense, Activation, BatchNormalization, Flatten, Conv2D, MaxPooling2D, Dropout\n",
        "from keras.models import Sequential"
      ],
      "metadata": {
        "id": "NrLMm8AEC_Sb"
      },
      "execution_count": 27,
      "outputs": []
    },
    {
      "cell_type": "code",
      "source": [
        "res = tf.keras.applications.ResNet50V2(\n",
        "    input_shape=(50, 50, 3),\n",
        "    include_top = False\n",
        ")"
      ],
      "metadata": {
        "id": "oBnlW4suDAbV"
      },
      "execution_count": 28,
      "outputs": []
    },
    {
      "cell_type": "code",
      "source": [
        "res_model = Sequential()\n",
        "res_model.add(res)\n",
        "res_model.add(Dropout(0.25))\n",
        "res_model.add(MaxPooling2D())\n",
        "res_model.add(Flatten())\n",
        "res_model.add(Dense(256, activation='relu'))\n",
        "res_model.add(BatchNormalization())\n",
        "res_model.add(Dropout(0.5))\n",
        "res_model.add(Dense(2, activation='softmax'))"
      ],
      "metadata": {
        "id": "MbqWqD9JDBWN"
      },
      "execution_count": 29,
      "outputs": []
    },
    {
      "cell_type": "code",
      "source": [
        "res_model.compile(loss='categorical_crossentropy', optimizer='adam', metrics=['accuracy'])"
      ],
      "metadata": {
        "id": "AK1BqS-KDC8i"
      },
      "execution_count": 30,
      "outputs": []
    },
    {
      "cell_type": "code",
      "source": [
        "history = res_model.fit(x_train, train_yCl,\n",
        "                        batch_size=120,\n",
        "                        epochs=10,\n",
        "                        validation_data=(x_val, valid_yCl))"
      ],
      "metadata": {
        "colab": {
          "base_uri": "https://localhost:8080/"
        },
        "id": "xiZDiWOeDD6l",
        "outputId": "345d64f9-3da9-4130-fac7-53e1fb5511d6"
      },
      "execution_count": 31,
      "outputs": [
        {
          "output_type": "stream",
          "name": "stdout",
          "text": [
            "Epoch 1/10\n",
            "13/13 [==============================] - 33s 415ms/step - loss: 0.5846 - accuracy: 0.7679 - val_loss: 9.3679 - val_accuracy: 0.6568\n",
            "Epoch 2/10\n",
            "13/13 [==============================] - 1s 106ms/step - loss: 0.3339 - accuracy: 0.8922 - val_loss: 25.8879 - val_accuracy: 0.5030\n",
            "Epoch 3/10\n",
            "13/13 [==============================] - 1s 108ms/step - loss: 0.2317 - accuracy: 0.9034 - val_loss: 23.5834 - val_accuracy: 0.4970\n",
            "Epoch 4/10\n",
            "13/13 [==============================] - 1s 106ms/step - loss: 0.1802 - accuracy: 0.9277 - val_loss: 3.3148 - val_accuracy: 0.8047\n",
            "Epoch 5/10\n",
            "13/13 [==============================] - 1s 105ms/step - loss: 0.1129 - accuracy: 0.9467 - val_loss: 3.3642 - val_accuracy: 0.8166\n",
            "Epoch 6/10\n",
            "13/13 [==============================] - 1s 106ms/step - loss: 0.0851 - accuracy: 0.9698 - val_loss: 5.0952 - val_accuracy: 0.7456\n",
            "Epoch 7/10\n",
            "13/13 [==============================] - 1s 109ms/step - loss: 0.0740 - accuracy: 0.9730 - val_loss: 2.0499 - val_accuracy: 0.7870\n",
            "Epoch 8/10\n",
            "13/13 [==============================] - 1s 111ms/step - loss: 0.0443 - accuracy: 0.9803 - val_loss: 1.6215 - val_accuracy: 0.8107\n",
            "Epoch 9/10\n",
            "13/13 [==============================] - 1s 108ms/step - loss: 0.0837 - accuracy: 0.9737 - val_loss: 3.6805 - val_accuracy: 0.7692\n",
            "Epoch 10/10\n",
            "13/13 [==============================] - 1s 107ms/step - loss: 0.0675 - accuracy: 0.9744 - val_loss: 1.6165 - val_accuracy: 0.8757\n"
          ]
        }
      ]
    },
    {
      "cell_type": "code",
      "source": [
        "score_valid = res_model.evaluate(x_val, valid_yCl)\n",
        "print(\"Validation Accuracy: \", score_valid[1])\n",
        "\n",
        "score_test = res_model.evaluate(x_test, test_yCl)\n",
        "print(\"Test Accuracy: \", score_test[1])\n",
        "\n",
        "score_train = res_model.evaluate(x_train, train_yCl)\n",
        "print(\"Train Accuracy: \", score_train[1])"
      ],
      "metadata": {
        "colab": {
          "base_uri": "https://localhost:8080/"
        },
        "id": "ZgxX6hqCDFFM",
        "outputId": "6f485383-f02e-4a70-aa50-96281822a4ee"
      },
      "execution_count": 32,
      "outputs": [
        {
          "output_type": "stream",
          "name": "stdout",
          "text": [
            "6/6 [==============================] - 2s 298ms/step - loss: 1.6165 - accuracy: 0.8757\n",
            "Validation Accuracy:  0.8757396340370178\n",
            "14/14 [==============================] - 1s 73ms/step - loss: 1.9127 - accuracy: 0.8558\n",
            "Test Accuracy:  0.8557919859886169\n",
            "48/48 [==============================] - 1s 31ms/step - loss: 1.1560 - accuracy: 0.8981\n",
            "Train Accuracy:  0.8980933427810669\n"
          ]
        }
      ]
    },
    {
      "cell_type": "code",
      "source": [
        "from sklearn.metrics import accuracy_score, precision_score, recall_score, f1_score, classification_report, confusion_matrix\n",
        "\n",
        "# Test verisi üzerinde tahminlerde bulunun\n",
        "y_pred_probs = res_model.predict(x_test)\n",
        "y_pred_classes = np.argmax(y_pred_probs, axis=1)\n",
        "\n",
        "# Gerçek sınıfları alın\n",
        "y_true_classes = np.argmax(test_yCl, axis=1)\n",
        "\n",
        "# Accuracy\n",
        "accuracy = accuracy_score(y_true_classes, y_pred_classes)\n",
        "print(f\"Accuracy: {accuracy}\")\n",
        "\n",
        "# Precision\n",
        "precision = precision_score(y_true_classes, y_pred_classes, average='weighted')\n",
        "print(f\"Precision: {precision}\")\n",
        "\n",
        "# Recall\n",
        "recall = recall_score(y_true_classes, y_pred_classes, average='weighted')\n",
        "print(f\"Recall: {recall}\")\n",
        "\n",
        "# F1 Score\n",
        "f1 = f1_score(y_true_classes, y_pred_classes, average='weighted')\n",
        "print(f\"F1-Score: {f1}\")\n",
        "\n",
        "# Classification Report\n",
        "print(\"Classification Report:\")\n",
        "print(classification_report(y_true_classes, y_pred_classes))\n",
        "\n",
        "# Confusion Matrix\n",
        "cm = confusion_matrix(y_true_classes, y_pred_classes)\n",
        "print(\"Confusion Matrix:\")\n",
        "print(cm)\n"
      ],
      "metadata": {
        "colab": {
          "base_uri": "https://localhost:8080/"
        },
        "id": "8KyMs3eRDGRZ",
        "outputId": "73ce5156-02aa-4648-8bc7-6afea48b57de"
      },
      "execution_count": 33,
      "outputs": [
        {
          "output_type": "stream",
          "name": "stdout",
          "text": [
            "14/14 [==============================] - 1s 18ms/step\n",
            "Accuracy: 0.8557919621749409\n",
            "Precision: 0.8699488623178464\n",
            "Recall: 0.8557919621749409\n",
            "F1-Score: 0.85352202160254\n",
            "Classification Report:\n",
            "              precision    recall  f1-score   support\n",
            "\n",
            "           0       0.94      0.74      0.83       201\n",
            "           1       0.80      0.96      0.87       222\n",
            "\n",
            "    accuracy                           0.86       423\n",
            "   macro avg       0.87      0.85      0.85       423\n",
            "weighted avg       0.87      0.86      0.85       423\n",
            "\n",
            "Confusion Matrix:\n",
            "[[149  52]\n",
            " [  9 213]]\n"
          ]
        }
      ]
    },
    {
      "cell_type": "code",
      "source": [
        "from sklearn.metrics import confusion_matrix\n",
        "import seaborn as sns\n",
        "import matplotlib.pyplot as plt\n",
        "\n",
        "cm = confusion_matrix(y_true_classes, y_pred_classes)\n",
        "sns.heatmap(cm, annot=True, fmt=\"d\", cmap=\"Blues\", xticklabels=CATEGORIES, yticklabels=CATEGORIES)\n",
        "plt.title(\"Confusion Matrix\")\n",
        "plt.xlabel(\"Predicted\")\n",
        "plt.ylabel(\"True\")\n",
        "plt.show()\n"
      ],
      "metadata": {
        "colab": {
          "base_uri": "https://localhost:8080/",
          "height": 472
        },
        "id": "rROgsYRkDHfr",
        "outputId": "4757b3a7-ac6e-48ff-a2fd-263a9d7cab6f"
      },
      "execution_count": 34,
      "outputs": [
        {
          "output_type": "display_data",
          "data": {
            "text/plain": [
              "<Figure size 640x480 with 2 Axes>"
            ],
            "image/png": "[encoded data removed]"
          },
          "metadata": {}
        }
      ]
    }
  ]
}